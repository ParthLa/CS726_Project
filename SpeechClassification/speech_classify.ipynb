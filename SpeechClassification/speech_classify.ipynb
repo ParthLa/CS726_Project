{
  "nbformat": 4,
  "nbformat_minor": 0,
  "metadata": {
    "kernelspec": {
      "display_name": "Python 3",
      "language": "python",
      "name": "python3"
    },
    "language_info": {
      "codemirror_mode": {
        "name": "ipython",
        "version": 3
      },
      "file_extension": ".py",
      "mimetype": "text/x-python",
      "name": "python",
      "nbconvert_exporter": "python",
      "pygments_lexer": "ipython3",
      "version": "3.6.12"
    },
    "colab": {
      "name": "ASR_A2Task1.ipynb",
      "provenance": [],
      "collapsed_sections": []
    },
    "accelerator": "GPU",
    "widgets": {
      "application/vnd.jupyter.widget-state+json": {
        "85e0aa604d37463387338adb29d5487b": {
          "model_module": "@jupyter-widgets/controls",
          "model_name": "HBoxModel",
          "state": {
            "_view_name": "HBoxView",
            "_dom_classes": [],
            "_model_name": "HBoxModel",
            "_view_module": "@jupyter-widgets/controls",
            "_model_module_version": "1.5.0",
            "_view_count": null,
            "_view_module_version": "1.5.0",
            "box_style": "",
            "layout": "IPY_MODEL_0c49fed6b41044ed8c71e1f87c8ea3ed",
            "_model_module": "@jupyter-widgets/controls",
            "children": [
              "IPY_MODEL_0ed4ced40da543f29c3c142477adfdd5",
              "IPY_MODEL_fb0852b2a957435486c8af1197530468"
            ]
          }
        },
        "0c49fed6b41044ed8c71e1f87c8ea3ed": {
          "model_module": "@jupyter-widgets/base",
          "model_name": "LayoutModel",
          "state": {
            "_view_name": "LayoutView",
            "grid_template_rows": null,
            "right": null,
            "justify_content": null,
            "_view_module": "@jupyter-widgets/base",
            "overflow": null,
            "_model_module_version": "1.2.0",
            "_view_count": null,
            "flex_flow": null,
            "width": null,
            "min_width": null,
            "border": null,
            "align_items": null,
            "bottom": null,
            "_model_module": "@jupyter-widgets/base",
            "top": null,
            "grid_column": null,
            "overflow_y": null,
            "overflow_x": null,
            "grid_auto_flow": null,
            "grid_area": null,
            "grid_template_columns": null,
            "flex": null,
            "_model_name": "LayoutModel",
            "justify_items": null,
            "grid_row": null,
            "max_height": null,
            "align_content": null,
            "visibility": null,
            "align_self": null,
            "height": null,
            "min_height": null,
            "padding": null,
            "grid_auto_rows": null,
            "grid_gap": null,
            "max_width": null,
            "order": null,
            "_view_module_version": "1.2.0",
            "grid_template_areas": null,
            "object_position": null,
            "object_fit": null,
            "grid_auto_columns": null,
            "margin": null,
            "display": null,
            "left": null
          }
        },
        "0ed4ced40da543f29c3c142477adfdd5": {
          "model_module": "@jupyter-widgets/controls",
          "model_name": "FloatProgressModel",
          "state": {
            "_view_name": "ProgressView",
            "style": "IPY_MODEL_4de6d31f08e94e018a155659dc3b30b6",
            "_dom_classes": [],
            "description": "100%",
            "_model_name": "FloatProgressModel",
            "bar_style": "danger",
            "max": 25,
            "_view_module": "@jupyter-widgets/controls",
            "_model_module_version": "1.5.0",
            "value": 24.999999999999915,
            "_view_count": null,
            "_view_module_version": "1.5.0",
            "orientation": "horizontal",
            "min": 0,
            "description_tooltip": null,
            "_model_module": "@jupyter-widgets/controls",
            "layout": "IPY_MODEL_6f693c5744f24fd490ab556cb4713f97"
          }
        },
        "fb0852b2a957435486c8af1197530468": {
          "model_module": "@jupyter-widgets/controls",
          "model_name": "HTMLModel",
          "state": {
            "_view_name": "HTMLView",
            "style": "IPY_MODEL_7908038a15b24c479009a95e2ad06e7c",
            "_dom_classes": [],
            "description": "",
            "_model_name": "HTMLModel",
            "placeholder": "​",
            "_view_module": "@jupyter-widgets/controls",
            "_model_module_version": "1.5.0",
            "value": " 24.999999999999915/25 [03:21&lt;00:00,  8.06s/it]",
            "_view_count": null,
            "_view_module_version": "1.5.0",
            "description_tooltip": null,
            "_model_module": "@jupyter-widgets/controls",
            "layout": "IPY_MODEL_e30de2be36c64e21b8cfd8d05b54677a"
          }
        },
        "4de6d31f08e94e018a155659dc3b30b6": {
          "model_module": "@jupyter-widgets/controls",
          "model_name": "ProgressStyleModel",
          "state": {
            "_view_name": "StyleView",
            "_model_name": "ProgressStyleModel",
            "description_width": "initial",
            "_view_module": "@jupyter-widgets/base",
            "_model_module_version": "1.5.0",
            "_view_count": null,
            "_view_module_version": "1.2.0",
            "bar_color": null,
            "_model_module": "@jupyter-widgets/controls"
          }
        },
        "6f693c5744f24fd490ab556cb4713f97": {
          "model_module": "@jupyter-widgets/base",
          "model_name": "LayoutModel",
          "state": {
            "_view_name": "LayoutView",
            "grid_template_rows": null,
            "right": null,
            "justify_content": null,
            "_view_module": "@jupyter-widgets/base",
            "overflow": null,
            "_model_module_version": "1.2.0",
            "_view_count": null,
            "flex_flow": null,
            "width": null,
            "min_width": null,
            "border": null,
            "align_items": null,
            "bottom": null,
            "_model_module": "@jupyter-widgets/base",
            "top": null,
            "grid_column": null,
            "overflow_y": null,
            "overflow_x": null,
            "grid_auto_flow": null,
            "grid_area": null,
            "grid_template_columns": null,
            "flex": null,
            "_model_name": "LayoutModel",
            "justify_items": null,
            "grid_row": null,
            "max_height": null,
            "align_content": null,
            "visibility": null,
            "align_self": null,
            "height": null,
            "min_height": null,
            "padding": null,
            "grid_auto_rows": null,
            "grid_gap": null,
            "max_width": null,
            "order": null,
            "_view_module_version": "1.2.0",
            "grid_template_areas": null,
            "object_position": null,
            "object_fit": null,
            "grid_auto_columns": null,
            "margin": null,
            "display": null,
            "left": null
          }
        },
        "7908038a15b24c479009a95e2ad06e7c": {
          "model_module": "@jupyter-widgets/controls",
          "model_name": "DescriptionStyleModel",
          "state": {
            "_view_name": "StyleView",
            "_model_name": "DescriptionStyleModel",
            "description_width": "",
            "_view_module": "@jupyter-widgets/base",
            "_model_module_version": "1.5.0",
            "_view_count": null,
            "_view_module_version": "1.2.0",
            "_model_module": "@jupyter-widgets/controls"
          }
        },
        "e30de2be36c64e21b8cfd8d05b54677a": {
          "model_module": "@jupyter-widgets/base",
          "model_name": "LayoutModel",
          "state": {
            "_view_name": "LayoutView",
            "grid_template_rows": null,
            "right": null,
            "justify_content": null,
            "_view_module": "@jupyter-widgets/base",
            "overflow": null,
            "_model_module_version": "1.2.0",
            "_view_count": null,
            "flex_flow": null,
            "width": null,
            "min_width": null,
            "border": null,
            "align_items": null,
            "bottom": null,
            "_model_module": "@jupyter-widgets/base",
            "top": null,
            "grid_column": null,
            "overflow_y": null,
            "overflow_x": null,
            "grid_auto_flow": null,
            "grid_area": null,
            "grid_template_columns": null,
            "flex": null,
            "_model_name": "LayoutModel",
            "justify_items": null,
            "grid_row": null,
            "max_height": null,
            "align_content": null,
            "visibility": null,
            "align_self": null,
            "height": null,
            "min_height": null,
            "padding": null,
            "grid_auto_rows": null,
            "grid_gap": null,
            "max_width": null,
            "order": null,
            "_view_module_version": "1.2.0",
            "grid_template_areas": null,
            "object_position": null,
            "object_fit": null,
            "grid_auto_columns": null,
            "margin": null,
            "display": null,
            "left": null
          }
        }
      }
    }
  },
  "cells": [
    {
      "cell_type": "code",
      "metadata": {
        "id": "6SGXSDY81Mdk"
      },
      "source": [
        "%matplotlib inline"
      ],
      "execution_count": null,
      "outputs": []
    },
    {
      "cell_type": "code",
      "metadata": {
        "id": "nkKD50XL1Mdx"
      },
      "source": [
        "%%capture\n",
        "# Uncomment the following line to run in Google Colab\n",
        "\n",
        "# CPU:\n",
        "# !pip install torch==1.7.0+cpu torchvision==0.8.1+cpu torchaudio==0.7.0 -f https://download.pytorch.org/whl/torch_stable.html\n",
        "\n",
        "# GPU:\n",
        "!pip install torch==1.7.0+cu101 torchvision==0.8.1+cu101 torchaudio==0.7.0 -f https://download.pytorch.org/whl/torch_stable.html\n",
        "\n",
        "# For interactive demo at the end:\n",
        "!pip install pydub\n",
        "\n",
        "import torch\n",
        "import torch.nn as nn\n",
        "import torch.nn.functional as F\n",
        "import torch.optim as optim\n",
        "import torchaudio\n",
        "\n",
        "import matplotlib.pyplot as plt\n",
        "import IPython.display as ipd\n",
        "from tqdm.notebook import tqdm"
      ],
      "execution_count": null,
      "outputs": []
    },
    {
      "cell_type": "markdown",
      "metadata": {
        "id": "3cAj-l5e1Mdy"
      },
      "source": [
        "Let’s check if a CUDA GPU is available and select our device. \n",
        "\n",
        "\n"
      ]
    },
    {
      "cell_type": "code",
      "metadata": {
        "id": "-IuK3U_G1Mdz",
        "colab": {
          "base_uri": "https://localhost:8080/"
        },
        "outputId": "7eda2bad-e283-4ba1-bdad-0e3a71d88eb1"
      },
      "source": [
        "device = torch.device(\"cuda\" if torch.cuda.is_available() else \"cpu\")\n",
        "print(device)"
      ],
      "execution_count": null,
      "outputs": [
        {
          "output_type": "stream",
          "text": [
            "cuda\n"
          ],
          "name": "stdout"
        }
      ]
    },
    {
      "cell_type": "markdown",
      "metadata": {
        "id": "msALtghq1Md0"
      },
      "source": [
        "Importing the Dataset\n",
        "---------------------\n",
        "\n",
        "We use torchaudio to download and represent the dataset. Here we use\n",
        "`SpeechCommands <https://arxiv.org/abs/1804.03209>`__, which is a\n",
        "datasets of 35 commands spoken by different people. The dataset\n",
        "``SPEECHCOMMANDS`` is a ``torch.utils.data.Dataset`` version of the\n",
        "dataset. In this dataset, all audio files are about 1 second long (and\n",
        "so about 16000 time frames long).\n",
        "\n",
        "The actual loading and formatting steps happen when a data point is\n",
        "being accessed, and torchaudio takes care of converting the audio files\n",
        "to tensors. If one wants to load an audio file directly instead,\n",
        "``torchaudio.load()`` can be used. It returns a tuple containing the\n",
        "newly created tensor along with the sampling frequency of the audio file\n",
        "(16kHz for SpeechCommands).\n",
        "\n",
        "Going back to the dataset, here we create a subclass that splits it into\n",
        "standard training, validation, testing subsets.\n",
        "\n",
        "\n"
      ]
    },
    {
      "cell_type": "code",
      "metadata": {
        "id": "U4UrOdl01Md1"
      },
      "source": [
        "from torchaudio.datasets import SPEECHCOMMANDS\n",
        "import os\n",
        "\n",
        "\n",
        "class SubsetSC(SPEECHCOMMANDS):\n",
        "    def __init__(self, subset: str = None):\n",
        "        super().__init__(\"./\", download=True)\n",
        "\n",
        "        def load_list(filename):\n",
        "            filepath = os.path.join(self._path, filename)\n",
        "            with open(filepath) as fileobj:\n",
        "                return [os.path.join(self._path, line.strip()) for line in fileobj]\n",
        "\n",
        "        if subset == \"validation\":\n",
        "            self._walker = load_list(\"validation_list.txt\")\n",
        "        elif subset == \"testing\":\n",
        "            self._walker = load_list(\"testing_list.txt\")\n",
        "        elif subset == \"training\":\n",
        "            excludes = load_list(\"validation_list.txt\") + load_list(\"testing_list.txt\")\n",
        "            excludes = set(excludes)\n",
        "            self._walker = [w for w in self._walker if w not in excludes]\n",
        "\n",
        "\n",
        "# Create training and testing split of the data. We do not use validation in this tutorial.\n",
        "train_set = SubsetSC(\"training\")\n",
        "test_set = SubsetSC(\"testing\")"
      ],
      "execution_count": null,
      "outputs": []
    },
    {
      "cell_type": "code",
      "metadata": {
        "colab": {
          "base_uri": "https://localhost:8080/"
        },
        "id": "J-DsN89K22ee",
        "outputId": "0f115049-8a8c-4b17-d2e5-8303d7da8620"
      },
      "source": [
        "#CHECK ORIGINAL Train and Test Set Length\n",
        "print(f\"Train Length:{len(train_set)}\")\n",
        "print(f\"Test  Length:{len( test_set)}\")\n",
        "print(train_set[0])"
      ],
      "execution_count": null,
      "outputs": [
        {
          "output_type": "stream",
          "text": [
            "Train Length:84843\n",
            "Test  Length:11005\n",
            "(tensor([[-0.0658, -0.0709, -0.0753,  ..., -0.0700, -0.0731, -0.0704]]), 16000, 'backward', '0165e0e8', 0)\n"
          ],
          "name": "stdout"
        }
      ]
    },
    {
      "cell_type": "code",
      "metadata": {
        "id": "uhajSw2c3ouG"
      },
      "source": [
        "%%capture\n",
        "!wget https://www.cse.iitb.ac.in/~pjyothi/cs753/train_list.txt\n",
        "!wget https://www.cse.iitb.ac.in/~pjyothi/cs753/test_list.txt\n",
        "train_index = [int(val.rstrip('\\n')) for val in open(\"train_list.txt\").readlines()]\n",
        "test_index  = [int(val.rstrip('\\n')) for val in open( \"test_list.txt\").readlines()]"
      ],
      "execution_count": null,
      "outputs": []
    },
    {
      "cell_type": "code",
      "metadata": {
        "colab": {
          "base_uri": "https://localhost:8080/"
        },
        "id": "VA5dDjrk4j9Y",
        "outputId": "b039f7c1-9379-4722-8824-531ea2b71616"
      },
      "source": [
        "#CHECK New Train and Test Set Length\n",
        "train_set = [train_set[i] for i in train_index]\n",
        "test_set  = [ test_set[i] for i in  test_index]\n",
        "print(f\"Train Length:{len(train_set)}\")\n",
        "print(f\"Test  Length:{len(test_set)}\")"
      ],
      "execution_count": null,
      "outputs": [
        {
          "output_type": "stream",
          "text": [
            "Train Length:12000\n",
            "Test  Length:4000\n"
          ],
          "name": "stdout"
        }
      ]
    },
    {
      "cell_type": "markdown",
      "metadata": {
        "id": "J4GApbeb1Md1"
      },
      "source": [
        "A data point in the SPEECHCOMMANDS dataset is a tuple made of a waveform\n",
        "(the audio signal), the sample rate, the utterance (label), the ID of\n",
        "the speaker, the number of the utterance.\n",
        "\n",
        "\n"
      ]
    },
    {
      "cell_type": "code",
      "metadata": {
        "id": "qOxJ8y5P7q6i"
      },
      "source": [
        "waveform, sample_rate, label, speaker_id, utterance_number = train_set[0]"
      ],
      "execution_count": null,
      "outputs": []
    },
    {
      "cell_type": "code",
      "metadata": {
        "id": "h6oHeTSl1Md1",
        "colab": {
          "base_uri": "https://localhost:8080/",
          "height": 300
        },
        "outputId": "ca136c81-8670-42f8-99ec-24cd4ad699b6"
      },
      "source": [
        "print(\"Shape of waveform: {}\".format(waveform.size()))\n",
        "print(\"Sample rate of waveform: {}\".format(sample_rate))\n",
        "\n",
        "plt.plot(waveform.t().numpy());"
      ],
      "execution_count": null,
      "outputs": [
        {
          "output_type": "stream",
          "text": [
            "Shape of waveform: torch.Size([1, 16000])\n",
            "Sample rate of waveform: 16000\n"
          ],
          "name": "stdout"
        },
        {
          "output_type": "display_data",
          "data": {
            "image/png": "[encoded data removed]",
            "text/plain": [
              "<Figure size 432x288 with 1 Axes>"
            ]
          },
          "metadata": {
            "tags": [],
            "needs_background": "light"
          }
        }
      ]
    },
    {
      "cell_type": "markdown",
      "metadata": {
        "id": "MnNBRkYy1Md3"
      },
      "source": [
        "Let’s find the list of labels available in the dataset.\n",
        "\n",
        "\n"
      ]
    },
    {
      "cell_type": "code",
      "metadata": {
        "id": "o9KfkISQ1Md3",
        "colab": {
          "base_uri": "https://localhost:8080/"
        },
        "outputId": "a1b33bf5-c03c-4504-e9fc-8c5e84de1be6"
      },
      "source": [
        "labels = sorted(list(set(datapoint[2] for datapoint in train_set)))\n",
        "print(labels)\n",
        "print(len(labels))"
      ],
      "execution_count": null,
      "outputs": [
        {
          "output_type": "stream",
          "text": [
            "['backward', 'bed', 'bird', 'cat', 'dog', 'down', 'eight', 'five', 'follow', 'forward', 'four', 'go', 'happy', 'house', 'learn', 'left', 'marvin', 'nine', 'no', 'off', 'on', 'one', 'right', 'seven', 'sheila', 'six', 'stop', 'three', 'tree', 'two', 'up', 'visual', 'wow', 'yes', 'zero']\n",
            "35\n"
          ],
          "name": "stdout"
        }
      ]
    },
    {
      "cell_type": "markdown",
      "metadata": {
        "id": "MxS-KUeO1Md4"
      },
      "source": [
        "The 35 audio labels are commands that are said by users. \n",
        "\n"
      ]
    },
    {
      "cell_type": "code",
      "metadata": {
        "colab": {
          "base_uri": "https://localhost:8080/"
        },
        "id": "t6VoHF7j8yrz",
        "outputId": "7eae94da-e67d-4403-bc81-2df5ab218221"
      },
      "source": [
        "# CHECK sample_rate and sample_channel\n",
        "sample_rates = set([datapoint[1] for datapoint in train_set])\n",
        "sample_channels = set([datapoint[0].shape[0] for datapoint in train_set])\n",
        "print(sample_rates)\n",
        "print(sample_channels)"
      ],
      "execution_count": null,
      "outputs": [
        {
          "output_type": "stream",
          "text": [
            "{16000}\n",
            "{1}\n"
          ],
          "name": "stdout"
        }
      ]
    },
    {
      "cell_type": "markdown",
      "metadata": {
        "id": "w7PBFogYIZji"
      },
      "source": [
        "ALL waveform.shape[0] is equal to 0 and wavefor.shape[1] <= 16000"
      ]
    },
    {
      "cell_type": "markdown",
      "metadata": {
        "id": "rkvy1HHy9jOh"
      },
      "source": [
        "First will say Backward and Last will say Zero"
      ]
    },
    {
      "cell_type": "code",
      "metadata": {
        "colab": {
          "base_uri": "https://localhost:8080/",
          "height": 105
        },
        "id": "eTJtzRrk608J",
        "outputId": "ec5d4f26-27d4-4a2a-cca0-4b8410ae8dfc"
      },
      "source": [
        "#========== CHECK SAYING BACKWARD AND ZERO\n",
        "display(ipd.Audio( train_set[0][0],  rate=sample_rate))\n",
        "display(ipd.Audio(train_set[-1][0],  rate=sample_rate))\n"
      ],
      "execution_count": null,
      "outputs": [
        {
          "output_type": "display_data",
          "data": {
            "text/html": [
              "\n",
              "                <audio controls=\"controls\" >\n",
              "                    <source src=\"data:audio/wav;base64,UklGRiR9AABXQVZFZm10IBAAAAABAAEAgD4AAAB9AAACABAAZGF0YQB9AAADAAkACQAIAAsAAgACABAACAANABEADAAQABUADgAVABMACwAaABIAEwAWAAQAEwAVABMAGgAdABoAIAAhAB8AHAAaACQAIgAdAB8AIQAaABoAFQASAAYACQAQAAYABgACAP//+P/5//f/AAD9/wYAAgD///n/+v/y//L//f////f/8v/4/+r/6f/u//L/9P/4//X/8v/m//L/5f/u//X/5v/3//L/7v/z/+7/6v/p/+n//P/q/+//+f/v//T/+v/v//L/9P/t//f/7f/t/+//9P/u//L/+f/y//T/AADw/+//9f/q/+3/8P/w//L/8v/o//L/5v/u//z/8//9//j//v8AAPz/BwALAAMABgADAAEA+f8DAAIA+P/9//z/+P/y//r//P8BAAMA/f8DAAYADAAVABMADAAQABAAFQAIAP3/CQAIAAcACAAHAAQAEAAMAA0ACQAHAAsAEQAWABMAIgAaABUADQAOABoAFQAXABwAGwAVABAAGgAhAB0AGgAcACAAEAAaABcAEQAOAA4AFQAGAAsAAwD9/wIA+P8BAPn//P/3//L/9P/l//L/6P/p//D/6v/r//L/7//0//f/9f/v/+3/8//v//X/9P/1//D/+v/4//f/8//m//T/9//u/+3/8v/r//P/8v/z/+7/6f/0//f/+v8BAPz/8//6//T/BwAAAPn//f8DAA0A/P8CAAgA+P/8/wEA+f8BAAQABwAAAP//BAAEAAQAAgAJAAYABAAEAAcACwANABAAEgASABEADgAOAAwAEQAXABAAEwAMAAwADAARABMAEQAcAA4ADgAOAA0AEwALAAsADgALAA0ADQARABYAEgAMAAcACQAJABMABwAGAAAABAAIAP///P/6//7/AAADAA0ACQAAAP//AgABAAQAAQD4//3/AQAEAAEACAAEAP//+P/+/wIA/f/+/wAA/v/0/wAA+P/5//f/9f/w//T//f/5//f/6//0//P/9f/5//T/9/8AAPL/AAD5//n/+f/0//j//f/5//T/+P8CAPD/8v/+//z//P/3//f//P/4//P////u//X/9//y//j/9f/1/wMA+P/5/wEAAwD///n/AAD+/wEAAwD+//L////6////BgABAAsADgAMABIAEAAMABAACAAJABEAEAAVABgADgARAAkAEQAWABEACQAJAAgADgAQAA4ADAAAAAYAEQAaABUAEwASAA0AHwAdABAADgAHABAACQALAAsADQAIAAAABgD9//r/9//6//T/8P/5//P/7//z/+//6v/v/+//8v/0/////f/5//f/+f/t//X/6f/l/+7/8v/w/+7/8//t//z/6//z//r/7f/w//P/6f/v/+n/4P/p/+v/9f/v/+7/+P/4//L/8//y/wIA9//6//////8CAP//9f////3/8//8//r/8//3//n/7//4/+3/9f///+//7f/z//X/+f/8//r/9P/0/wAA/v/8//T/AAAEAAcACAAMABAABwAHAAEAAwAMAAcACwALAAYAAwAIAA4AEwALAA4ADQAMABIAGAAQAP//AQD9/wEAAAAHAAMA/f8IAPn////+//7//v/8//L/AQD8//7/+P/t//X/+f/8/wEA/f8IAAAA+v8EAPr/AgD0//f//f///wYAAwABAPT///8CABUAFwAIABIABgD+/w0ACwANAA0ADAAQABEACwAbAA4ACQANAAgACAABAAAA/v8DAAMA/v8AAPz/AwAHAAYADQAGAAsA//8NAAsAAQAMAPz/DAACAAcACQAIAAMAAgACAAYACQABAAgAAAD0//7/+v/+/wYAAAD6//L/6//u//r/7f/9//j/9f8CAAAABAD///n//f8CAAAA/f8EAAAA/v/9/wAADQADABAAEQANAAwAFgAWABcADgALABEADgAQAAEA//////r/AwAHAAMABwAAAP///f/8//T/8//5//L/AAD1//r/9P/y//X/7f/4/wAA+P8AAP7/9f/8/////f8DAAYAAgAIAAQABAAEAAAAAAACAAsABwAEAAEA/v8BAPz////6//3/BAD///z//v8AAPr/+f/8/wQA9f/0//n/7v/u/+3/9//0/+//8//0//P/8v/0////+P/3//r//P/8//P/AAD8/wAA+v/8//z//////wcAAwD+//7/9P/9/wEACAAJAAwABwABAAcAAQASAAwACAALAAgADQAOABEADQAOAAQAAgAEAP3/BgAAAP7/AwD8//r//P/4/wAA+f/3//z/9f/v/+7/7f/9//j/+P/8//n/9P/5/wEA9P/+//r//v8AAPf//P8CAPD/AgABAPj/CAD8/wQACQAHAAkABAD8//r/AAD3//7//f8CAAkAAwAJAAgAAgD6/wAA/v/+//X///8CAP3/+v/0/////v/4/wMACAAIAAgADQARABIABwAHAAwABAAQABMAAAAXABIABgAOAA0ACAAEAAsA/v8RAAQAAwATAAMABwAJABUACQALAAEACQD///7/BAD9/wEA//8IAAkADgADAPn/9//4//L/9f/z/wEAAwD+/wMAAAAJAPf/8//9//n////9/wwABgAEAP//BgACAP7/BAD0/wAAAQAHAA4ACwADAAkADQD8/////P/+//n//v8MAAQAAwADAAAAAgACAPr/+v/4//////8AAP7//f////n//f/+//T///////f/+f/y/+v/7f/h/9r/6//g/+v/8//3//L/7//0/+H/4P/g/+T/4P/b/+j/7f/p//P//P/6/wAAAQACAAgAAgD9/wIAAQD+/wMAEQAEAAYAEQAQAAsA/f8BAAgA/f8BAAgAAgD///7//P8DAAEACQALAAcACwAJAA0ADgAMAA0ACAACAAYABAALABAACwAIAAkACwAJAAsABgAJABAABAAAAAsAEAAEAA0AEQANAA4ADAAHAAgABwAJAAwAAgD//wEA///6////AQAAAAsADQAIAPr/BwD6//n/AwAGAAsAAQAEAAMAAwAEAAIABgAEAAcACAAJAAkABAADAP7/9f/+////AAD8/wkAAQD+//3/+f/5//L/+v/6//D/9P/4//r/8//1//T/+f8GAP7//v8CAAEA9//8//X/7v/v/+v/8P/y/+7/8v/z/+r/7f/4//T/9//+////AgABAP7/+P8DAP7/AQD9//r/AgD+//r/+v/9//X/+f/0//X/9//8//7/AgD+/wAABAACAAMA+v8AAAIA/P8AAAgACAAEAAkAAgABAAYA//8LAAMAFQAVAAgAEQAOAAsABgAJAAQABwD4//X/CQAGAAsAEAAIAAQA/v8NAAAA/f8AAAQACwAIABEAEgAdAAcAEwAQAAAACwALAAEABwADAAAABgD3//3/CQABAPj/AAD//wQABwAIAAcA/f8DAPn/7//0//7/AAD5/wgADQALAAcABgD6//P////z//L//v8DAAYACQAHAA4ABwD//wEACwD//wEABgAIAAgACAACAPL//f/9//7/AQAAAP3/AQD8//n/AgDp//z////h/+3//P/6/+//8//v/+3/9P/o//D/AQD9//z/AQAHAAAA/v/+/wAA+v8CAAYACAAQABIAEwAQAAcADAADAPn/BwD8//j/+v/3//P/9P/6//T/+v/v//3/BgAHAAcABgAIAPf/AwD///7///8GAAYA9f/5//j/+v/3//X/BwD3//3/+f/o//j/9P/4//////8DABYACQD9/wsAAgAHAAAAAgAMAAcA//8IAAIA+f/8//3/9f/8/wQA///8//7/AwD3//7/AQDz//j/9P/v//D/9P/t//f////w//T/9P/m/+b/4//u//D/9f/4//7//P8AAAIA9P/4//z/CQAIAAsAFgARAA0ABAANABEAEgAWABUAEAATABYAFQAIAAgAFwAOAAcADAADAAQAAQACAAQAAwAIAAAA/f8EAPf/AQARAAAABAASAA4AFQAOAAkACAAOAAwABgALAAsABwD9//f/AwADAAIABwANAAwAAQADAP3/+P///wAAAQALAAAA/v///+v/9P/+//z/AAACAAIAAwD5//T/8P/y//z//P/+//7//P/y//P/9P/t//X/8//v//L/+P8AAPX/9f/8//P/9P/z/+r/7//8//T/9P/1//7//f/3//L/9f/r/+7/9P/v//3//v/6/wYACQAEAAgAEAD//wcAEAALAAgAAwDz//f/9//z//j//f/9//j/9f/6//f/+P/5//3/CAARABEAEQAEAAwADQD+/wkACQD8/xAAEQAOABMAEAAOAAIABAAOAAwACQAGAAgACQAMAA4AEAAIABAAFwAGAAQAFQAOAAsADQD///7/+P/y//r/AQAAAP3/AADy////6//w//r/9P/+//7//P/+//7//P/w//L/8//3//z////9//z//v/4//f/9//v//7//P/o//f//v/3//T/+P/9//X/9f/4/wkA///6/wIA8v/y//f/8//t//P/+v/8/+//+f8BAPf/9//r/+b/9f/r//f/+f/3/////P/4//n/8//0/wIA/f8AAAgABwACAP7////5//z/9//+/wIA/P8EAP3/8v/5/wMA///5/wcABgD//wcADQALAAkAEAAQABIAEgAQABgACwAbAB0AEQAOAAYABAAQAA4ABwANABoAEwAGAAkACQAIAAcABgAEABcAGgARABIAFwASAAQADAAOABsAFwAcABsADQAIAAYAAQADABEADgASABIACwAHAAAABwAHAAEADgAIAA0ADAAAAP//AAAAAAYA//8NAP//9f8BAPP/7//v//X/8v/v/+j/6v/4/+7/8//1/+T/3//k/9//4f/u//L/9f/4//r/9f/u//f/9//0//f//P8AAP7/8P/t//L/7//v/+3/+P////T/8P/6//n/8//8//z/9P/4//j/AgD9//7/BAACAP//BgAAAAEACAADAAYA/v8EAP//AgD8////BAABAP7///8WAAcA/v8BAAAAAgD6//r/BwADAP3//P8BAPj/9f////n/9f/4//T/+f/0//f/7//q/+//7//z/+j/AQABAAcAEgAWABMAGgAlAB0AIQAaABcAFwAQAAIAGAAdABsABADy//P/5v/c/9v/8P/w//j/IAAcAO7/9P8JAAMAxv/Z/ykAQwAcANH/7v/L/4v/lf+i/7n/5v/8/+r/BgBiAG8AcQB1AG0AowCpAFwA8//z/wAArf+y/0wA7gC4AGoAkgBlAEUAfgCtAGEAMwAuAJj/E/9k/9n/FwAmAGwArQCjALoA6QDWAI4AmgCkALYAPgDZ/9v/lP9F//T++/5a/2v/RP/x/jb/3v9I/0n/oP8JABABcwEVAnICoAJrAngCpASNBdcD1AI4A+wChQFUAL8As/8V/lD9fvy8+wj6Dfkd+Mr31feE+L75tvqx+138s/2q/jkA9gH8AqoDZAQIBu4GMQc+Bx0HdQYxBWIEagN4Au4BRAGKAIT/l/6V/TL8LvvM+jT77vt6/DL90v0u/tD+Xf9FAPABCwPHA5UDvwPzA2ADTAO/AlQCGwJ5ATgBOQBA/7f+uP3h/Df8iPz2/Nn8CP4r/wQAPgDZ/6T/u/9AAGUB3gGrAUgCZwP1A14CmwH1ASMBtv8A/s795/2l/TH9jfz0+5P7rfoH+on6ZvsJ/df+UgEOA8QDcQRhBFIEmwTlBPAEEwV6BDMDdAIGA9ECygDp/l/9I/zR+ib6VPsQ/Lv7xfrT+cj5BfkF+Ov3yvfF9iX3iPiN+Pb3Rvgd+b/5svp0+5D7Gfql9VDyZveJBKcTcR97KUA0VTqxOLgxmyxkKpElnxzoE08Omwaf+bLoUdkIzrrETb5GvdC/WcMfyffQJNt652n1QgP5Dk8ZOCPULDw13jtDPtA75DWPK3wcugvL/GjwSuRi1+rLucJ+vNy6t75OyZnYY+n9+e4JlBhXJAouvjbZPTRDn0VRRCM+VDF0IMcN+vr26fHaXc+5xufAJb3gu2G/mcRJymDTieF39XQMMSM+N+FEPEqgSFxDRz2QNggu2iMsGD4Kh/rJ6ljcxdBiyIzCr8Dtw+zK5tLO25Pm8fK8/6wMfxlrJL0r4i5LL5gudixlJpwciRE/BTj3lun13kbXLNKM0YvWg92c49PozOwi76fwWPTv+rUDtwv8EMUVLhkTGBoSrAlbAWn50fE26+flWOHD277ZiOIG+SMbjEAaW0djq2EQXuhYhU+zQFsvxh+WEtMBUO1Q21LLj7duotmVP5d9pPe1t8VO1trsvga5H7w2q0nfVNNXv1ROTUZFdT7hNTUn2RBL9K7V3rlWooORMouKj6qYl6H9qwK9H9jV+hcfaECUW5ptnnRicvhqC2FtU0ZBvyv1ExP6ft2lwPmnEZb7inqHAYxVmBmsbcQW33D7yRaGLdI/rk6nWu9kW2zdbcZm1lV+PLoghAZn7RXWC8Fer62kr6Hmo2msEb2t0evjmvOtA9sTGyPfMJw8R0WUSBBDvTUcJqUXKwqD/AzwB+cs4b7cQ9nj17LZ7N3Q4bvkCumt8dj9ags+FpMZGxaUD0QJVwTkAW4CgATABoIHiwQ4/jr34PAF65Tn2+r48h/5wftE/JD7qfum/H78nfzp/zoFLwkVCkAH+wA5+I3sZd9K1qfXVeYmBLYvV1d/ZWFdU1F0SSNB6TNFIRIQcweNAIjyI+Mn2u3P9L3rrC+nr65cw/XggftUDSEcBSkxMZ030znJMAEk5x6WHOkVPBDwC/r/zugazFCyYqQLp46zP8Jo0oTi4+zn8dX5WQpqI/pA5FuOa11udmSPSwEq3As29nXmwNoF0cfGTrxms42tia4zuYDKzN85+NIQCyb6NTBAukO8P180BCX+F3YSWBKtEEUJ9/t66WXVbMfZxlHVX+lR94sAKQybGGohryZ7KSooNyFQFSoJ4QLlAgcAbfTp5Yzc2Ngt2X3fQ+li8Xv39v1eBb8MQBKoEtEMNQRz/D/2BvIX8VXzcvYp+fT6D/jO8bTtHu2C7vzxs/ieAXwJXgxiC0YL5AuWB3v/G/tV/Ej/JwL1BKMGMwZJAzz8pvNR70Tvle/88aj1uvL66PXex9gP3EfvkhD2OQBhNnZ+dK9n1VnWRaAn+wb87AzekNu936bf0Nn10gnJer0NvIrJ1d5U+D4V3ixqOZk/RUFIOLIkEw7d+GDp8+eo8Rr40/bi8e3mDdRjwTW3CLquzEXq9QbCGX4juCajJA0kciwbO2ZGg0hCPaMkVgY/6ifTQcNFu+u3J7eiu6DFs9H93hnvKQHaElkini4hOJ8/sEOeQKQ1BCXrEfn+uu8s5xbkf+N74GvZ5dHGzHHMP9SO4w/0gwIiEokkCzShPPxCmEgHRoU3eiLJDNf6+O/i6cbi5Nn50cfJ+sBbwGzNbt586wD60AsnGEscIx9fIfMd9xaSEI0LIgoFDV0O6ger+xrupd/h0oLNFNA22Cvl2PM2/4AGggtKDpgPPg/bDW4OChMFGC8ZqxW0DdwCifaI6ozf89YC1GzXD99263/8cQhYCcAH/QguCp8MIRKoE6kJvvpn8qrzdwRIKYNPiF53WDhPMkg2PrcuNReW86/Mv7WRssq438SC1aLhYuXR6jj4GgZIEKkcdCpNMsc1zjmwOTYtLBQa9BrPRK30oBawNs2/6Uv+pwafAnH6ffcJ+kT/4Ql3GBsgDx21FmUR5wtKB80EzAAe+XrxbOz36GHnEelS7a3yu/dw+5f9pP8OBYoOJhcVGYgUOQ4xBwb+l/SK7Qfo7+Kr4Lvhq+Qr6ir2AwgtF1sgYybfKbop7SmOLFkqqR47Doz+afNz8lf6SQBp/5v6BfIZ6AXlAOsb8XryA/RN9cvwj+hR5Pjldup78rv/zw+8HRIogS0NKaoaoQg6943oROB44T/oPuyp65rpOub34QTiu+kr9mQEyBOeIx8waDQFLo4b1QG96kbb9tFmzvLTYuBX7uL7DAchDfkOFhBbEEcQwxKoFasUlBAaDFkFHf12+pP9zQFOBgoJWAYgAJr78/fX763ilNYI0w/fpAKNONZo/38ffAZm70Z3JSwFt+ZUy3y4A7SSu2rH5dCj1GrUy9QJ3bjxnQufIAEyIkI6S49IQjzzJ+YLCe641QDF1LsWvp/MeN8J7mr3tf4xA8YE5wYqCv8LpgoQCNEFoAINACMB3wMcBqQKPxDDEPoL+gbHA7AApP0z/Tz+X/6p/ZX6HvRv7g7uAvED9Kz3Yv4TCasUJB4iIroc0hDyBVkA2//4AxEK7A1lDdgHU//99mjwo+uN6BbnwuYU6YzwmPumBgITMCGrKpoqYCPFFnsF0/Z78UzxZu6W6FjhRNiY02TZ9OSp7jj40AUzFLQfMShhKpIhgw8j+nrn791O4PDq5PYE/rr9hfYo7VPoPumo7Xv1y/9mCX4RoBjlGSwPI/xz6mDg7uCh7M7+LxDVHMUkkyj/JiIg3RUYCar8MvTF8NHvYe5E68Pm3OPl5+HyNwESE9AkRSxIKccl4SLFGhUPWQMY9BHhqdKxzRLP29c97/sSCDIEPh06QDHFKE4h9xmkDfP2dd1lz53Q+9rj5pnssOh34mTm7veIC9QTOw8YBa3+RgKUDgsaYBrEDHf2QeEY113dnu8fAwAQqRQME0UM9QKV+374fPmr/KT+F/wb9fDteuzC9BsHrB2ILzg3qDMAJloTsALY9g7w9e5S8rT07/DR57Tfz96Q5qHztwAOCscPQBQqGAMZARUgDO/+yfHh6z3xJgCtEMYY5BMGBlb2rep1567rm/Dd8Yjx9fSA/t4KORWIG7UbIRJJAxH6Bvbc7pfnv+j67uL0l/xYA6AB8/mi9nj59v0PA1wHdAcGA/n9Ivk+8Vjmb92A3NDly/cLDZsdBCV7I7obNhHlB/MB8P6S/qz/IABI/w79c/ek7snnHuaw6Izw//4UER8jSDLbOhk51ys+FuD/Ve9t5vrkWelt79Dy4/FA7y3v4PPA+kcA4QZgD68TLBJND5sI5vno6Qvg9dkk1sLXOt2m4oHrt/+CIABBc1CTTS9DIjc9Kn0dAA6V9X/XE8H1uo7EBNgc69jzpvMt9V79DAcFDPsMKg4tE6scwyZIKsghPAzo7XjSkMYSzibjwv2TFnkmXypIIxEU8QFz9A7xZ/Yx/WP+m/ft68ri1OT+9KQMWSDxKR8qmSKFF+4PKw0GChgFuwCM+pruN+Dy1S3SttQm3RHp7/S9/lEGRQ24E8wWsRTzDooIcAQeBvUNzxUeFtINCwFK8xbo9+JF5HDnM+lf6trthfdWCPcY/CAnIYIdPhbEC/wCFP7H+Pnx4+3E7Qnu0O067zPxTfPw+ZkFZw9HFCsX7xY6ELsFWfr87MngqNzX4dLuYAJcFpggjByVD4cCgPqx+Gn8XgMBC/EQVBTIFQ8T5we29jrnN96x3AfkH/O8BDkUkh8RJbgiqRgTCvX5A+pq3qPdi+ac7x/zdfJE8JLtf+0583T8MwbyDk4U2xT1EfwLegEw9VrrAOaz5o3tTvSW8zrtpuj17YYEDCmXSaJY0VkDUTQ7Ch0RAqXrp9dqzN3MY9Nh3ODlMuqs6BLqz/Kr/LgDWQySGRUoEjPCNcIsFBoPA7PrltcZzW/QKN/L8lMFKBIkF6kUhQ0OB84FkgqpER8Uswp39k7hNNXv1cHjG/zTFVAmfijbHvcQhgWH/RL5fvlP+1r4QfCY5y/h59+o5pnxpfh3+zT/oAQACTMLIAvXCJMFEgSUBoANWBciIPohjhnXCHzzu98d1qzZR+WI88AAOwiiCcoJcgqACqYNGxQqFKEL7wSlAmX+9/u2AfAGoQG69n/u8ujP56jvDPwPBIwGCQfvBQcF9wZKCJwD3Pkw70/pH+/p/3sQqhXvDFH8eO1o5x3sKPjVBOYMKQ/TDQ4MNQlrAYH0Aujw4Cjg7+V58tcDkhXEI0AraCiDGxMJq/ZV6Tvl6On38YP3PPfJ8Rvs/Ov/8nf/AQ9ZHKciRSPTHgMTFwP+9MznAtxC2Vnh+u1i/BIJowih92PkAeDS85Ydf0s1aI9thF/DQKca4vxI7AXhztYbz+LJLcj7yn7OR9FD2dzo/PfDAt8QSyUwN34/Nz75Mt0edwhE9u3pMuW76/f4fwAs/m34g/M+7ivqeuuM8oX77wJOBXcA4/ar7CLkw+Og9FUWgTrCTl9LTDVQF037aOc43ePZvdgZ1yHWPNnU4Qrun/n9AC8FmArnEvwZKRwaGukVMhBECK3+4PQ47qLuaffrBI4Q/RMtDfz/Q/OP7zr5YQnBExETMQqq/r302/B39Y/84vxX9sPuxem/6lT0YwMlEV4Z+xmzEm8Ft/Vb6Zzk0ebM7Cj01vlF/bcBDAccCR0HYAOQ/hr7BP4aBlcLMAk/AT/21uon4r7e8+LW77cDVhkLKAco5BgsA/7xjex68y0B8w0uFT0W9RDjBoX8YPRb7tbrY/A5+2YGtgz5DFEIigCy+db5HgNiEFYaex3KGMsLBPqb6qzhvN3x3TXj3eqZ8Zv3kv3k/2r79ffxAOgU3ijzOulMlVbjTuY5nyGLCZvztuS33TXZfNMmzETDQb0ww1HWBOwe/PgGJw1ODiAPARVzH8Ao6yrtJK0aHA/OAr74UPXz9tT36PUA8vbsW+hY5crj4uSN6dHud/BL7nntX/NPAvwZQDZ3Tt1Y1k9rNjQWdvmn57Ph1OHg4Uzg/9xz15LRwc8M1WbhefPKBhoWOyAUJdUiBRpHDzMH3AIpAgIGuQ6kFwYZNQ9a/93xGOoF6ArtZfhWAxkH3ANZ/bH1yvDN8oX5fP+QAoYCQf4V+HP1ZPgY/roDSwgICQIF1/5c+Fby1+7r8NT3GP+1AhACCf/T/Ln92gAhBRsKrQ6YEMMNMgY8/BHyFelX5DnnW/E+/bEGHA6BFMcXUxWlDogH/wGL/g3+9ADxBQIJVQYM/wr3c/AP7X7taPDH9k0AAQgBCw4MfQunBq0A/P+ABS0NxhPTFMQMe/4873biktrz2JHb1eH27p0BchIVH64rJDXZM/gpXCAxGE0P9Ql2C6IOHg1lBbr3g+dm3B7bZOCy58bvw/Ui9cnvAO3N7+z04frcA3wO3xSKFDwRIA68C0cLgA4NFC0XBBSBCjn9WPD75zXm2Omf8M334Ptd+7T4lPe/9/b3VvmN/WwEbwuCEYwW6xjCF7MUWhASCscDuf6++IHxNewd6nnoDeed55TovujK52Pnp+mT8P77cwk+FkkfNSORISEcBhdxFYsWfhVJEGcIt/xA7B7cldOn0/LZ9OTS8If3svcw9HryY/at/1gJrxC9FiMX6xG9CiwF5wC5/ff9ewB+ArcB2f3U97DyIfBO8KTz/fmjASwIrgzCDpQNrwnZBYkEeAZICucMsQtiBoj+GPZA78zsO/G++d8BWAj6C+cKbATI/CT4nfh7/rQHFhBLE88QQQkj/uLz5++y8pP4qv+nBi0LcQs8CHcCZfwK+nb8CgObC7kSPhQcDlUCufVJ7HToLuoU70T1LfrU/B7+Ef/vAGkETQrFENkUBhfWFyAWVRIxD0sN7go+BxMDlv75+Tv1qvAK7bfqqepf7evyqvkL/gr/eP3z+nj6PP7gBW8MJg/1DgIMZwajACT+KP4y/tT9Xv1U/a/8Jfs6+fz3Mfhb+BH4fviM+U/66voz/Gj/9wT8CS0LCQqSCFEGDQP3AfYCFgIh/vX4VfU/9Hv1UPfP+EX5BPhQ9S7zBvRX90b8/wG6BkYJMQnyB0oHpggBC/gLfApZB8wCyvzT9lrzzfJh88f0Effm+d77Cv1l/V/9hv5YAWEE1wZRCrgNgA4WDEIIEgTg/m35w/XF9SH5yPx6/2EBhgJRAW3/aP/2AM4B3wG9AkQEagWeBcgErwIcAFT9hPvz+tX7B/0Z/RP+cADmAUoAov0w/Jv8y/9FBcQKWA1oDI0IvQMKAcUBDQT9BLwDZwAc+/v2Ufam+C/9FAJdBMUB4f1M/G/9IwGiBpwLwwvTBVb9mvbV8pzyh/Xf+e39WQBiALD+5v3p/7QD0QewC9YNdg24CkIHrgQTAzwCMgHt/7/+x/3u+xj5wPXT8unxyvPo93D8rf95AaYCLAPdA7AFWQhJCjML6AsGDPgKowgRBcAAevy1+c34QPqd/Hn9W/yD+Z722/Ty9Yz6rQBEBrMJAQuBCsQIIwaEArX+2PtD+q/5kfoo/eb/5QACAA7+iPxS/Bb9xP70AJACbQLCAAX+z/vu+ob7r/z8/QsAWwJsBD8GBgh6CbIJUAhGBl8EPAKe/wD9E/vO+d34aPiO+G/4pvdH9w74hvqp/i0EpwkIDSsNmQkKBOb+FPwS/KP+IgIZBHgDFQH1/cX62/gc+RL7bf0+/zsAhQBbAMX/Kv8F/1X/Yf+j//D/mP8t/3j+gf34+6n6x/nT+Cn4xPiR+kP9twDQA34FwQWGBWwFowU8BhoHRwc4Bo8Dqf8S/Hn5i/h9+Vz7yfwY/dz8j/wx/d/+RAHVA6gFCwbSBNsCLwHI/wX+S/ys+qP5UPk2+oP82v+PA7EGVghqCPcHLwePBtUFaASBAmwAOf8D/+X+eP53/fH75fqx+m37N/x2/Of8BP7//2sCRAUoCBsKfwktB8gEvgKjANX+oP5U/9z/Ef8i/Uz7kvmG+KD4fPpb/f7/oAHxAVEB8wAQAe4A2ADeAO8AewCp/yP/GP+q/+//gv+r/gX/OwCCAdcCtwOqAz0CDgCY/an7kPpu+j77b/0bAKIB5AHTAIf/kv4E/wIBhgNrBbIFbgTGAQX/6Pz9+2b8If6DABACFQLBAMb+AP22+3H7c/0aAZMECAbRBZQERgIbAP7+MP8iABcBTgFAAKb+ev1r/AH8qvzd/Y/+Dv7h/N37qftT/Ib9qP7w/38BqgJMA/cC+AHeAN//d/+G/8z/Uv/l/Xv8y/v3+6X9LwCLAsIDPgTlA/oC4QJUA3MEEgVTBFYC2f8S/hb9H/3T/b7+1v4n/j79tvz4/Br+3/+NAbECDQP2AqICdQJLAs4BHAGG/8j9Z/yY/DX+9/+FAVICaAKtAfgAugCYAKYA8wCRAX0CGgPdAs4BtP8Y/cj6Hvok+9f80P5vAOQABAB7/kH9FP0X/s3/dgFlAn0CywG6AA4A0P82/7j+fP4O/wcAmQC/AB8AEv/j/cL9n/68/84A/QHmAuECEQLzACYAgv+M/yAA3gBlAWYBwACV/9/+c/4s/mf+kf+6AGsBTQFdAFj/Wv4i/oz+MP/a/0gANACo/1f/J/+H/+T/IQAmAAkAqP+B/nX9G/1r/S7+V//YAGoCVgMdA94BbQAHAMIAbgJEBG8FLAUYAwYAUf3W+8z7AP3X/jMAxQCSAMD/n/4L/lb+Qf9yAJMBLAL/ATQB1/9Q/mX9of1y/oX/UwCaAHoA4f9n/3f/EgDEANMALADn/ob96PwJ/fb9Cf/8/8wAGgFJAcUBTQJ3AlYCDALBASkBSACu/xv/uf47/qb9C/2M/Gb8jfxV/cT+LgDMADcBuQFVArMCkQJNAk0B9/8b//b+KP8Y/8H+Z/4Y/mr+5P/PATwDjwPPApEBmgCpAGsBjgJfA0cDEwLq/9v9t/zE/Mn9Mv8dADoA0v80//P+Sv8zAJ4B3QJsA2ADDgOcApYBbwB2/9b+ff4m/j3+lv4S/5n/1//r/97/7f/g/xoAvACWAb8BCgEvADL/T/7h/U7+7v5t/9f/0P9y/xL/1v7N/vj+WP+M/47/V//O/pL+3f4W/xf/PP9Q/zD/HP9s/yYAnwDvABUBwQBSAOj/4P+n/wL/c/4p/mX+Kv+GAMoBDwKFAYMAqP9s/9H/WQCOAF0ACABF/5z+Nv5G/v7+8//TAH4B2QGqAVMBHgEwAfMArACpAAsAjv94/4//c/9I/0v/Zv+W/+//XQA1AGMA4gBVAacBSQF+AO7+NP2R/HT9gv+qAfoC8QIbAtoA1f+a/3YA4gG2As0C+wGXACL/Mf4c/sb+mv/5/3r/ef7A/Yv9Hf5Z/7UApwFLApsCkAKYArMCcgK+AdMAk/+c/jH+FP4S/iL+lP4P/8H/mgAgAXABgAErAQ0BTQG3AfMB5wFxARIAYv5K/Qv9iP2c/ggA8wCwAND/6/54/ub+nv9WAL0AtgCu/3f+hP0i/WP9wv2I/hz/mf/o/z0AiwDEABEB3gBrABwA9P+s/2v//v48/lD9tPzw/Fv9P/63/wgBxQEAAgcCxAF+AVEBDwHWALoAFgB8/3L/fP+Y/8H/7f+V/yX/If/7/kP/HQDQABkB8gBrAKL/Ef9x/0oAPgGvAdUBUgGAAA4A4f/K/7z/uP9t/2n/4f+4AGwB5AHOAbcAV/8V/sr9YP54/8YAPwG6ALL/gP7d/TH+F/9HADwBxgFNAa0AdACXAMUAzgCdAA0AY//W/tP+e/+AAD0BogGCAQ0BPQAA/23+cv7V/lz/7v9PANb/LP8F/4X/owApArIDwgTFBBIE9wLIAXUAkP/0/jX+cv3Z/I38dfza/Aj+Qf9HAA0BpwEKAloCBQN9A3gDpwJ/ARoAzf77/az9tf3l/Rf+YP68/hj/Tf9n/47/gP8//0n/lv/r/ykAswAAAZQAHwDZ/7j/gP+j/zgAdgBJAN7/Z//s/mr+Zf7Y/k7/h//F/xYANQAmAFgAnACmAH4ASQAlAOn/uf/H/8H/if82/xj/7/5u/jv+of4W/z//1f9bAI8AcABbAG0AcQCLALcA5wDgALwAVAC0/+L+Nf5K/rX+Jv/g/5QA0QCEAGAAawA+AOv/KQChAM8AxADvABkBzgAdAH//S/9Q/zf/lf8WAIkAmgBRAB0Atv8n//T+S//W/1kAogCzAGEAIAA/AIoA8QB+AaEBKAFrAIf/uv4n/sX9m/26/Q7+jP5I/z0A4gAeAVYBSwHOAIoAmABMALb/hv+P/4n/2v8hAGUAYQBDAIgAxwArAY0BngGbAQcBMwDZ/6//8P+SAAgBMwGrALz/B/9k/hL+rv7B/50A2QDpAIEA9P/H//T/GwByABcBWgHLARACEQJ+AbUAk/8n/jP91Pz8/LD9B/9qAD0B6AF1AnQCIwLZAYMBFgFsAO3/tv+R/3//wv8rAFkASAAzAC8AyP86/xj/7v5z/jL+T/7B/uD+O//u/0MAkwAPAY8B8wG5AUwBtgABAHv/1v6b/oj+QP77/ej9AP59/l//ZgAIASoB/gCPANr/Nv/c/sz+AP85/5X/7v9hAKkACAF+AVgBCgGcAAIAOv/H/qr+YP5P/pL+RP/l/5oAmwFXAocCVwLVAVEBiACj/z7/sv7Y/VH9UP35/bn+u//CADgBKQHoAI4AFwC8/4H/mv+o/4f/p//L/9n/NADaAIQB8gH8AScCsQGzAN//PP8K/5z+Kf4h/vv9xf0u/uz+qv9vAFgBNwJ+AkACEQK5AekA8//z/lD+ef0R/Zb9h/6j/4MAegFWAqYClQKBAhkCyAFmAS0B8gBTALz/Yv/6/qP+3f5z/+7/OwBsAFsAwP/6/mf+Cv7t/f79d/7L/hv/bf+q/xMAZQC4ABoBcQF7AWQBSAEZAa4APgDh/5P/Xf+a/8v/0f/A/5j/lf+b/6T/3/9AAHsAbQAaABcAAQCy/3f/Hv/E/l3+Rf6X/v3+dv/0/5cA1gD8ACkBFgHgALIA2QAfAUMBQwEaAbsAbADy/7T/wP/S/+//xf+P/3D/P/9P/2j/df+A/57/hP+0/9L/AgBEAD4AewCKAGgAKQAWAOr/xf/S/xEAVABoAIYAZgBeAIEAvQAoAYUBMwGeAAwAVP/N/qP+oP6a/mr+n/7p/jz/4f9vAMsA1AB/ACQA2f+8/8f/DQB2ANEA7gAjAX8BxgE+AtMCEAP8AsoCGwI8AVsAwv9i/9H+w/6S/gP+tf2G/Yf9rP3S/eb91P2+/bj98P1y/jT/rf8YADYAEADX/+3/DgAuAHIAgQBXAOv/rf/C/0IA6QCIATICfQJcArcBDAFRAHz/D/+N/h7+xP2w/dv9RP4K/+r/tgBNAbcBsAGXAUIBywAMAIX/cf8K/+b+CP9F/4//JADGAFEBygHkAcQBDQE9AHb/q/5R/hD+Bv5Z/lT+Mf7c/Tv9X/wO+4/5Vff29DvzavLf8lD1lfly/3MG8Q06FV4b/B9dIlkiICABHFcWig8zCO0A5PoM9vvycfFF8QXyoPL48sjyH/Lo8KvvV+5L7dnsTO3K7g3xzfS1+V//IgWnCvoOyBHrEjUSLxD8DGIJagWrAcL+5/xQ/Db9i//DAmwGwQn8C4sMUwuZCKUE3P/0+nz2CfO38HnvlO8M8anzKvcf+67+TQGrAqoCbAE2/zf9y/tT+zn8Lv5OATgFewnLDaYRoxQtFgkWJBRsEDoLVwUt/6b5cfXE8prx1fEE87D0tfaJ+Pb54PpH+zX7p/r2+Ub59fgw+Tr6Cvxq/hkBoQO8BUYH8QfbB/0GXAUTA6QAc/6+/Mf7qftr/JD9/v5wALcBpAL+AqsCoAEWACb+H/xA+s34+veb9833Vvi9+OD4WfgH98T0zPHc7tvstew97xj1yv3gCEkV0iHbLDw1QDpuOz45wDO1K9UhMhfJDGUDt/sp9vPyefE48RHxPPA07v/q/uZ84ibekdp62GHYaNqj3vvkAu0h9rz/4QiNEAQW8BhNGTgXRhMqDq0IowOK/039Ef3p/s0C8AdKDZwRMBRWFOgRAw1rBvP+lPc28UDsOekI6OjoYusA72Dzy/eI++v9xP7W/af7oPjX9f7zyPPq9Vj6lwDvB40PVBaNG28exx6UHDcYdBLTCyYFD/83+hX33vVb9kb4zfof/cT+Pv+W/kP96fvB+jb6Xvou+4r8GP7U/2sBGQOMBNMFnAasBgAGXQTcAc3+x/ss+WL3T/Yn9or2Tfdc+FX59vk0+o/69Pqr+5b83f1h/+kAOwIcA5IDhgMkA4QC1AEKAT8AWf9e/n79y/yj/O78oP18/vX+wv53/VP7s/hS9oD0avNb8yn0afWK9oX38ffD9yX3TfYJ9mb3Kvv2AXALwBYOI80uWDgWPnc/xzwBN18v2CYMHtUVlQ4dCEoC3PzK9wrzgu6H6aDj4NzT1RzPhsnXxZrEaMZoy/nSSty+5qTxZfyjBtMPaBf+HIYgLSKEIrMhCiDpHW4b9BirFrEUDxPREbcQVg/gDNoINQNH/ML0X+3u5g3iD98e3grfVOHK5OToJu2E8Zr19/hH+7v8Y/3U/VX+cv+sAUUFRwoNELkVZBpmHWMeKx38GYkVZBBLC7cGzgLI/4b98vtH+0X7uvs4/B784/qH+Pj0pPAN7C/o2+V75QnnNupo7iXzRfhf/TYCqwayCjwO7RBLEgsSlhB1Dh0MMwo0Ce4IIglkCb8IcAZ+Ah/9Nffe8QHuVuzy7JzvYfMt9xb6i/t8+2L64fhl90f2w/Xl9QL3d/hx+tf8mP9RAsEESwZBBsEE5wGf/ov7B/rb+vb96gLGCPUNYBGHEhsRlA14COECx/3E+Tj3d/Yr9wH5t/sj/mn/g/6c+3v3sfMy8gD06fm9AzcQTR3EKKUwBzRfM64vDCqFI9ocQRboD4kJuwIL/ML1PPCQ6xfnYOJb3VnY0dN50DfPltC71GrbtuOK7AP17PwwBPYKoREmGBEezCKSJdwlwiNnH20ZyRKVDGYHpQNWATQAuf8C/379m/qT9pfxPuwr50TjXOHa4b/kiemo7zP2X/yPASoFPAcPCNgH9gYFBpQFHAbKB3kK4g2iESQVgxcAGPsVahH3Cr4D7Px69zX00/Lw8vTzCPWb9ZX1r/Q+84vx0e9m7lLtB+3e7RTw5vPi+JT+/gNQCMoK/Ao7CXEGrwPpAdABOAPKBSAJbgwHDzcQ/Q+iDnMMrwkXBoUBUPy99mHxFO0z6kXpmurp7Vjy2vZk+r78w/3e/YH9gf2h/hEB/wSRCdINIBEnE9kTlROwEkERZg82DU4KnAYzAmj9P/ll9mH1Gvbx9/H5Xft6+zr6EPjQ9TP0kvMe9Jj1j/e4+aj7Uf3+/pQAoAHXAUIB8P8t/rr88/s6/Kf9cf+FAF0AI/+7/W39e/+FBFsMBBYrH5olDChJJk8htBokFN8OYAvzCEwGiAI5/cX2OfCB6grmfeNx4lHiuuKw42LlIOh67O/xwfcf/VsB/wO7BZUHjwozD1sVyRvWID0j+CHrHO0UcQsLAgr6SfQc8UnwEvH78tD07/UH9vT09vKp8APvlu7b77Hyz/Z/+9v/SQNjBUQGSAYgBi4GlgZBB/kHdghYCK4HgwZIBbcE+QTOBfcGvgeCBwEGNwOG/3f73/fQ9H7yAvFQ8Hbwj/Gp81L2Qvni+5D9sP00/NH5g/d19oX36/onABUGggsJD/IPrg4KDMEI1gXEA4gCxAHxAKj/zP06/PH7i/3TANQEXghNCukJVgcYAzL+hvp5+Un7cP83BDMIrwlTCFwEiv7Z+Jv02vKX80726/mB/Y0A1gLCA3YDHgLp/0D9bvrp9wz2IfVN9Sr2Rvcv+In4WfjO91X3G/dL9wb4Rvkv+wD+0AFlBmYLQhBgFDUXMBg6F1QUXRD3C6EHyQM4APj8P/re9yX2DvU69E/zB/Ih8FrtJuok58jlu+d+7Z/2UAKfD8wcKSgxMBs0YDR2Mkgvnys1KC0lgSJsHyUbzhRIDMsBDvZn6tPfdtfM0SrP886c0G3TP9a82Ovaa93b4OTlI+2J9ocBUw1fGAohtCa7KJEn3SOFHr0YchOVD/8MbgsTCpYIbAaVAxUAxvsZ94Tyz+537NfrsuyS7sHwm/K48wv0v/OO81/03/Zh++gAigbWCtcMQwwqCeQE1gAm/rX9Of+rAfADBAWGBKUCAQCm/dr7IPuc+6L8of1L/nP+cf5y/n3+j/5Q/vH9S/1s/IX7r/qR+j77r/xV/kD/L/8J/jj8PvqV+Av4I/mm+x3/ZQLtBHsGMwd0B4IHyge3CBYKkwtkDMgLAQptB6AEQAKSAH3///6w/hP+oPxo+p73CfWN85HzEfW79976u/24/6YAcQCO/67+Mv5y/l3/iQCqAScCJQLOAUEBCwEQAWoBugG0AUgBsABYALEAAALSAxUGDgg0CWkJtQhuB5QFhwN2AV3/JP3S+lL4ZvZr9Xr1VPZq9zn4h/if+Hz4ifgj+W36H/yJ/bH9jPyQ+kT5LfrA/T4E0gyWFZ4cRiDLHxgc6xZjEhAQSxB5EqwUJhXYEpsNEAaX/eX12u/b60XpW+d75bXjV+Lt4dDi5uTv513r5u5X8uT18fna/t8EWgs2EbwVKhidGFgXpBQiEbMN1grqCPEHtQfmB0sIzgijCKUHhgWCAiX/Nfxh+rL5L/pe+6D8Rv3//Pv7kPpv+d34l/iN+BD43fbh9FzyHfC57uju2vAn9Bn41Puo/k4ANwHKAWkCZAPyBAkHMQk6C6oMFA2+DMkLWQrMCAIH4QRQAtD/r/0H/Cr7xfrX+sv6I/p1+N/1TfOZ8bvxyPN79+T74f+aApoD9gKSAfwAIwIuBXAJpA2KEJsRZhAKDWgIqQNKAK/+pv5T/7z/aP9M/pP8nvrD+CP3OPYX9tb2NPjm+aH7W/29/qn/FgASAOH/4f9AALMANQE/AaYAdv/6/bD80fvK+5H8wP0n/0wA7ABgAQYCUQMvBXcHigntCoULGwvlCRwIIwYEBEMCbQBU/t/7OPlQ92H2Xvb59tX3mPj0+Kb4JPjZ9yT4HflV+lv7wfu7+5z77fub/ekAwAWlC68RmhZSGbAZoxiGFz0XAxhhGVEa0xkSF/4RKAsCBLD9z/iu9ZrzifGk7qHqGOa24Znef92N3k3h9OTd6Kjs0vCV9fP6vABXBh8LnQ6YEBARzhCtEP8QyhHJEmYTPBP3EdoPuQ2bC/8JigjrBt4ENgL//pP7ffjp9RT01fIG8h/x7O+Y7n7tJe2i7b7uLfCi8cjyi/P28870i/aV+cr9nQJKByoLAw6kDz0QSBAMELoPaA8GDywOuAzaCrcIjwZpBBsCtP8t/b76bvhq9vb08PNI88byS/L28bbxy/Fx8szz5vV9+BP7gv2J/yEBkAI0BE0G0ghxC/ENHhCGEf8RmxFrEOQOLA1XC20JZQdCBfUCoQBG/rb7/vj49d7yCPDQ7ePsXe1l70Tye/U0+Ar6E/t8+937qPxQ/sUAlAMDBoMH0wcxBwsG/wROBP8D8APEA20D2QJBAs0BngHxAXAC8QITAwYD9wIBAxADCwP+AmQCFAH9/rD8vPp0+SH5Y/mm+T35Bfgf9jD0BvMn89/0wPcD+8P9T/+n/xf/Yv4k/qv+6v9mAYYC0gKxAuUC1QP4BTUJ/wz9ED8UChb1FZUUERNdEgcTqxQ7FogWmhRbEIQK6gOw/ef4z/V39CH0vvO38tLwaO4q7PbqU+sj7eHvv/Ji9bz3EfqK/A7/wwFtBNAGpQi5CfgJVwliCLQHqQdbCHYJjwo+C28LFwscCrQI2ga+BKsCvwAs/6T9wfty+cL2//Nr8VPv6+1Y7cbt6+5u8LLxb/Ks8rTyQfPO9IT3cfsMAIUEAwgVCuMK5wqSCn4KFwsZDFoNgQ4iD+QOxA0MDBMK1AeDBSsDqQAG/nr7S/ll9+711vT681bzAPP68lzzLPQ29UX2Sfdj+JT5t/o5/E7+3QCzA10GvQhSCkYL7QugDGkNCA43DrUNawyQCowIngYOBesD0wJXATv/ePwn+cP1zfLu8Ffw6fAa8ifzuvOr84vznPOL9Hf25/jA+5v+UwG4A5QFDweCCOoJAwvmC2MMUAzJCxoLgwoVCoAJmQgEB+0EwALPADr/4/27/IX7Qfoc+SL4bPcz92r3/ffE+F/5l/mp+fD5t/o8/Ev+vwDYAi0EkQTxA78CjQHJAKcAMwEUAskCCAOaAnEBCwDN/i7+ZP4o/+n/agCQALcAMgH8ATsDEQVfB+AJGQyXDR4O0Q0DDVYMIwxkDMgM0gwdDJMKbQjxBU8DwgCQ/rb8Nvse+g/5svfk9fzzZfJ18TvxuvGA8lrzfvTP9VL35fhK+l37N/z7/MX9lf5r/ycAowD0AHgBGgLwAskDbgTvBH4F7AUVBu8FewXCBDoE1gOAA/ICEQLbAGn/Cf65/KP7lfrB+RL5uPib+Kr4x/jJ+OD4afmZ+kf8Cv6g/+UAxAF4AhoDmwMABE8EoAS+BMwEewS1A6sCkwGLAKL/8/5Z/tz9VP2//Gb89/um+0P7qPp2+tH60ftV/dP+GwDUAO4AqABeACkAZQArAVwC1gMOBYkFIQXxA38CYAFBAVYCQQRHBkwHAgeDBWoDdQFCADQA2gCsAQACUAGW/zH99/pp+fn4vflT+/38Ov6j/mD+9/0Z/jT/DQESA1gEhQSvA2MCAgFMACYAfgCuAE8AVf+m/aL7wvms+Kz4uvlN+6z8i/21/Y79yf3x/tUA/wKsBL0FIQZIBmUGgwaiBokGMAZjBWsEggPsApYCnQIcA7gDGATWA/UCywGoAAMAEwB0ANMAxADv/5v+Bv2n+7b6fPr3+s/7dfyM/O/74/ri+a/54/pR/awAFgSSBgUIcQhFCEAIwwjtCZcLWg2xDikPhg7HDFcK8gcMBusEQwRyAxQC8P8P/QX6gPfU9Qf1yPSV9FH0sPOj8o7xzfDH8N7x7PO49oP5wPsM/X/9pf3T/Zr+1f9wAUsD8wQIBlsG5QXlBK4DyQKnAvkCRgMKAxAChgDN/lT9ffxQ/IX84fwV/f38a/yS+7f6U/rF+v77rv06/yoAYQA0ANT/y/9PACEBAQKLAqECOAJ0AXkAnv9B/0H/cf+8/6n/Qf++/lP+YP4A/9//uwBzAaYBbgEMAZUAZgCXAE0BRQIuA9MDwwMXAycCRAEPAX4BWgJbA8kDcwOJAj4BDABQ/zn/m/8dAGwARACb/5v+uP2H/Uf+uf9NAY0CAAO5AhUCqAHiAcgC8QPSBBYFzQTNA38CQgFiAAsABwAGAJv/bv6t/JP6x/jF96/3UPg3+SD6zfos+y77Ivs9+3n7Q/yW/UH/LQHDAh4EBAViBWgFPgUCBekEAQUiBUoFYgUJBUoEHwPkAeAAMQCv/zL/s/4i/mT9t/wu/Of76fsw/JP8Lf2a/dT95v27/dj9H/6N/hP/m/8YAHQAywAfAW4B0gEbAncC7QKPAyIEmAT1BC8FUQVJBRUF3wSbBEsEAgTYA5UDNQOTArUB0wAfAGz/3P6S/lr+If7s/az9cv0Z/b/8wPwe/b/9Pf6w/vH+Ev9P/6f/OQArAQoC1AJiA30DVQPwAowCNAJHAnoCogKuAkMCXAECAJr+Zv3G/Hn8QvwR/Lz7/Po3+qD5UPl5+ev5jPo0+6H7rfuA+z/7Jft++zL8E/3X/Xz+y/7r/vv+Ef82/3r/x/8GAH8AzwAeAV8BWwEtAfEAiwAlAO7/rP+W/7P/3/8MAB8ABgDc/6r/Yv9Y/3r/wf8VAE8ApADBAOIA+wABARoBNQFLAWYBhwGmAeQBLgJyArMC9gIdAzYDSgNqA6ADrQOmA2oD+wJhAsEBXQELAfMA2QB7AOb/P/+L/u39ov15/X/9if18/VD9FP3D/JT8rfzZ/DL9k/31/ST+Rv5v/sT+i/9qAGcBLgKnAuwC7wL5AgADRwOoAwIETQR4BGcEDwRpA6wCAQKPAW8BZAFcASkBsAD9/yL/Vv60/UL9Gv1B/S398/yw/C38t/ty+537/fue/Dn9vv0r/mD+lf7k/jr/o/85AOQAdgEOAnACfAI5AtwBigF2AXQBWwF5ATkB5wCJACwA6/+V/3L/V/9B/zH/If8e/+7+uv7H/sn+4f4c/1T/gP+5/7f/sf+j/4L/eP92/3X/h/+f/8f/xv/P/+3//f8MADAAWwB2AL8ADwFrAZYBqgGwAawBngGhAa8BeQErAbwAMQCn/yv/1f6R/mj+YP5V/jf+4P2k/Yj9mv3n/YP+B/+d/y4AogADAU4B0wEqApcCCANKA4gDrQOyA5QDVgPqAn8C9gF1Af4AiwApALb/XP/u/l/+zP1K/eL8r/yP/Ir8hPxv/Hb8l/zL/Bn9cv0E/oL+KP/X/4AAyQAKASoBSAGwAQkCvQIAAxoDBgPjAqUCIgLFAWwBOQHxANgAqwBdAPz/Sv/p/qv+iv48/h7+Hv7q/br9hv2g/dH9Dv4o/mn+0v7a/uL+7P4x/2H/4P+iAIgBzwHVAeYBuwGrAbsBBgJHAiMC4gGdAWUBQwH4ALwAlwB1AHUAQADk/4D/Nf9j/8j/6v+u/5H/c/9u/4H/P/8X/0D/sv+y/6L/UP8n/+/+5v54/4//lP82/yX/Df/H/uT+Ev9p/2b/oP/R/xYAVgCEALMAZgCYAP4AfwEQAkMCHQIOAu4BUALKApgCDgJnAf0AJAGHAZEBKgElAHX/if+Q/4f/6/4p/v/9m/60/8X//f7r/WD9W/1d/iX/Lf+b/jX+x/4t/+3/8v+b/2P/rf+LAGQBoQHiADMArf8CAAcByQHKAe0Ax/+B/14AEQHqAPD/ZP+P/wgAfADZ/zX/gv46/ob+J//C/0v/uf5V/rT+r/+PAD0AG/9d/kL+AP/c/yIA6P/j/9T//f/W/9z/JAA+AHoApgAgAY0BXwF/ANT/6P+XAFsBhAE0AaYArAD8AOMA2gB/AB8ADQBjAJcA6QCeAAIAvP+n/yEAYgAoAWwBNwE0AfIAewAOADgAnQCDAEMACQCV/4L/xf+v/5P/Q/8n/3z/+v8LAMz/Nf/m/qf/7/8DANb/0P8kAE4AowC9AHcAHQDc/zAAewBRACUA+P+g/3P/Yv+K/1D/D/8X//v+J/+3/wIA2f/Q/8H/JwBiAGEAqABFAFIA8gBRARwB4gDbACsBcQGAAXEB8wBRANb/jv/U/ywAFQC2/0P/3/7O/i//UP8E/+f+Rv9o/3f/Tf/O/rL+2v4M/0X/lP/0//P/mf/a/wAAbACtALoAYgCXAC0BNwFHAZkAPgDr/zoAHAGUAWwB2AAYAHz/dv+y/+H/5f/5/yYADgDy/7H/dv9P/7T/AgBsAN4AiQBJAAAAEgCdAN0A5QDbAJwAhACAAKsAfwAnAGIASADr/53/iv+U/4z/Ov/E/q3+xP7v/tf+xv79/nP/3//M/17/Xv+g/zMAlACDAHQAGgC2/6X/uf/o/+n/j/80/wf/j/82AAsAcv8r/zv/lP/z/14AhQAsAA0ATgCnAOAAkwDh/73/KgADAV0BjgC8//b+If/+/zQAgwA6ANn/xv/q/2EAlACcACUANgDqAI4BnQEVAWwACwCGAPsAFQHWAIEANADy/9X/tv+A/yD/2v7J/jr/sv96//j+W/6h/nz////m/5j/ev+y/3AABQHiAGUAJwAVAHoAwgCsACYAFwDX/4L/if+t/9X/qf+U/2T/kf8SAEkAWAB8ALwAqwCkAIUAbQB2AIoAhgBOAOX/j/+Q/0n/E/8i/27/i/8R/+f+Cv9P/4H/1P8gACkATwBlAHoAbQB+AJQAjQCZAM8AswBwABYA3P++/77/y/+4/8z/wP/C/+D/vv+7/8f/4//v/8v/wv8MAD8ARQBtAMQAzACQAJ8AuwDdAMQAjQBHACAAKgBIACwA5f+7/+D/1v+G/4D/cP9A/yH/NP92/4H/gP8x/yH/kP/o/+b/vv+z/63//f9SAFgAewCzALMAgAA+AOP/5P82AFMAJADj/8P/hv9o/5j/r//6/w4A1v/Q/wIARABYAH4AbwBwAL8AMwFfAUQBVgEPARQBeQGOAXsBJgH3AIEAPQAgAPX/3/+9/9r/0P+J/0j/Q/8y/0j/pP/e/8L/oP9h/2P/dv9//6X/tv8IADUA3P/N/8r/vP/R/5b/Uv/4/vn+Ev/v/gf/Cf/4/hL/PP9K/1T/lP/G/wYAZgB2AHsARABIAHYAnQDHAJUATAADANL/2f+t/5r/1/8dADYAFgAqABUAAgAJAFIAoQC3AOQAuwB5AFwANAAxAE0AXABjAEAAFgDK/2j/Vf9S/z//fP+p/83/rP+W/4X/r//l/83/1/8bAEcAYABYACYA7//P/9f/4f8OACEAGgAJAOH/qv+a/9D/2/8VADEAHQBRAGMALgABABAAVwCVAM4AzACDAIYAdQBJAE4ARABgAFYAZwB6AHQAqwC7AHkAHwAQACsAcgBnAA0AuP+n/5n/lf+Z/5n/vv+v/6T/rP/j/xgAAQADABgAcADJAPEAowA/ACQAEgD9//r/s/+K/77/xf92/xv/Hv8E/wT/Sf+T/8r/pP99/6//w//3/ywAOABFAC8AEgAXANz/r/+J/4b/rP/Q/9z/5P/+/9z/vf/H/xEAbAC1ANoAuwCXAHkAgQCOAL0AywCkAKYAuwCrAJ0AkgAwACEAMQA0ACIA+P+5/17/SP9X/zr/RP9h/1T/WP+E/6T/wv/C/6n/rP/8/0kARwAzABsA9f/t//z//f9AAHAAdgBjAGUAcQBPACkAAADZ/wYAbAB0ABgAov9w/4z/6/8NAOj/BgD6/6X/gf96/2P/af9j/3f/nf+9/8v/m/+W/8r/9f8lAF4AWwA2ABoA9//v/9n/3v/m/7n/o/+b/7f/tv9z/1X/Yf92/5//5P/j/63/i/+C/47/rf/g/9X/4/8LADoATQA2APf/1f8OAEUAgACmAHIATwBgAHsAkgDBAOgA4wDKAMkArQCdAJ8AawAbAP3//v/y/+b/tP+V/4D/iv+A/6//1//a/+T/9//8//f/DAAIAAQAHwBcAHUAgAB1AHwAgwCJAJwAsQAFASEBDAENAewAuwCjAKMAwgCPAFQAOgAmACcAIQADANT/wf/b/xAAJwACAPf/4P/G/9X/mP+e/9T/6//b/+j/+P/W/9H/9/8gACIAOgAqACQAPgAwAB8A/f8IAAwA8//u/9b/1v/o/9D/xf+9/3L/cv9p/3D/lv+O/5v/Yv9V/3r/kP/H/8r/z//v/x8AHQDj/9H/5v/S/7b/vP/F/+b/9//C/6P/u//8/y8ANQA0ACIARAB0AIgAbwBtAHAAWABDACYAPgA1AEQAJAD6//X/yv/H/7L/x/8HAAwAIQAnABYANgA2ADsAWwBEAE0ANQAhAE4AJQAHAOT/uf+W/4r/vP/j//L/5v+7/3v/iv+4/8//8P/u/xMAJAASABsABADS/9z/DgAxADUAMwA+ABwA6//S/8j/3v8SAP3/1v/X/8D/y//h/9r/wf/Q/+T/AgAMAPj//v/0/7f/m//F//f/AwDF/7P/j/+B/7T/p/+E/2z/WP9j/4v/qf+Q/2T/T/87/0b/df+M/6X/qP+j/7v/6f8LAPj/9/8GACUAXQCDAFYATABqAIMAtwCzAJoAlQCxAJ4AogCeAKwAkABxAHsASABRAFEAFQAEANz/0v/l/+D/AQADAAMAHAAQACQAQwAwAD0ALwAuAEIAWQB3AIEAYQBFADUAJQBIAFEATwAfAAYAIAAgAE8AcQBZACsACQAJABEAMwBPACoADAAJAOr/6//L/6L/gf9s/3H/cP9T/0r/WP9t/5v/jv+Z/7P/s//H/9n/9f8GABIALgAuAEoAbQBtAHcAhQB2AHEAbQBoAFwAVwBXADoAIgAIAAAAEQAMAPD/5v/V/8L/x//G/8X/wv/G/7j/nf+9/9b/zf/X/8j/rv+q/8j/8P/p/9v/4P/r//7//P8RABcA/f/4//f/+f8AAAkACAD+//X/AQAdAAQA/f/8////JQA6AEQANgAuABoACQACABEABgAVABYAEQAXAP//9//v/97/0f/G/97/3//f/9T/6P8cAA0AIABAAEgAUwBYAHoAegBRAD8AUgBZAEkASQBHACsAFwAqABoAGAAgABwAFgAkADAAJQAWAPD/7f/k/+/////3/+n//P8JABUABgD+//j/FwAbABgAGgATABMA/v8CAAAA9P/6/wYADADl/9D/3v/e/8//yv/F/+b//P/0/9b/tv+9/73/uP+9/8r/u/+e/6L/tP+e/4r/d/9s/4D/lf+5/8z/0P/D/9T/2v/v/xYAQwBRAFcAWQBbAGIAYwBTAEgANAAhACQAOQBIAEwARAAvADAAPQArABwAGgAdABgAKQBKAEUAJQAhABwAEwAVAAQA3v/H/8X/wv/N/+D/1P/j/8H/rP+5/8H/t/+y/7f/w//M/+n/7f/g/9//0v/g/+v/5P/y/+T/4P/1/wcAHQAaAA0ACwASAAwAGAATABMADQAOAA4AHwAvABIADgAhACIAHwAlACIAJQAkACwALAAkABsAHwAbADAAIAAfAPz/AwAIAPT/AwAYAPX/4P/X/8//zf/D/8X/w//D/+r/CwARAPn/2f/R/83/3v/c/9v/zP/e/+T/3//k/8v/vv+t/63/0v/q/w4ACAD3/+3/1v/b/97/4P/D/8P/3//y//n/BADy/9z/y//c//n/IAAbAAkADAAAAAgACwATABwAGAATABUAIQAaABUAAgAQAA4AHAA/ACkAOAAYABEAGwAqADoAQwBNAFEAUQBdAGIAWQBMAEQARABPAFQAZQBjADYAMQAYABUAEAAdAAIA9P/5/+b/5f/q/9v/4////+////8XAA0AEwAgAAYA+v/8/wMAAwD6//P/8//j/+T/y//K/8L/yP/S/9T/2v/3/wMA/v/3/97/9/8GABwAHAAVAAQA+P/+//3/AQASAAkAEwALABgAGwAQAPn/5P/u//n/CQAXABcA9P/v//D/BAD+/wgAAwAHABsAEQACAAQA/v/m/8z/wv/R/+7/2f+3/8D/qf+l/5//oP+e/6D/tv/a/wAA+f8AAPz/8v8AABYAOwBAAEkASQBAAEQAPgAuACAABgDw/xMAHwAVABgAHQAmACcAJQAiACoATQBCAEMAPwA+AD0AFQARAAQA8P/p////9f/R/6f/qv+t/63/vf+n/8D/yv/A/8b/wP+s/77/xv/C/9T/7v/v//T/7f/z//P/3v/0////DAAVABUAHwAcABIA///+/wsAAgD+////FQAVAP////8GAAIAFgAqADMANABFAEUAQwA6ACcAJgAgACIAHQAvAC8AKgARAAYAGwAaABYAGgAuABUAAQAVABIAEwAJAAMABAAMAP//9P/+/9T/z//N/9L/3//k/9L/w//K/8f/xv/V/8f/0P/u/+//BwARAPz/8v/v//f/9/8OAA0A/P8LAAQA+v/4/wcA/P/z//L/+P8JAAIAAwAAAAEAAQACAPL/2v/e/9D/2f/0/+v/0P/a/9r/zP/j/9//5f/z//L/6v/u/9X/0P/p/9v/4//v/w4ABwDc/+T/4f/b/+r/AgD9/wIA+f/o//7//P/3/wEAAQAXACcAOAAzACYAFgALAP//EAAdABoAFwAEAAYAGgALAAEAGgAIAAkAEgARABcABgAIAAYA6f/9//r/9P/8/wIAAwD1//D/+f8BAPP/DgASABoAJAASAP7/EQD5//3/CQAQABoAHwAiACEAHAASACkANQAkADAAJwAlACQADQAQAAkACQD5//D//P8AAPX//P/q/+X/+v8GAPz/8P/q/+r/6//k/+j/8v/z/+v/6v/j/9//2v/S/9H/1v/W//T/AgAGAP7/+f8HAAgADQAVABEAEQAcABgAHwAgAAYA/f8BAPX//f///wgAAgAGABEAFwAHAA4ACwAIACQAHwAiAD0ALwAYABYADgAJAP3/FwASAAAABwANAAkA9P/t//f/+f/0//7/+v/1//j/6f/0/wQAAAAHAAsAAgANAAkACwAIAAIAEAANAPj/+P/3/+r//P8EAP//AwD9/wgADAD+/wIA/P/6////+v/+/+7/6//w//T/7v/z//r/7f/b//P/AgD9/wEAAgAOAA0ACQAMABEADAARAAQAAAD9/wAAEgAJAPT//P8OABAA8v8HAAgA/P8HAAQAEwAIAAwA/P/4//z/+P8EAAQAAAD6/wcAAgD8/+v/6f/z/+7/+v8EAPX/BwD1//n//v/9/xAAEAAMAB8AIgAlAC4AJwApACIALwAqACQAFgAaACIACAANAAAA6v/u//j/AAD3/+//8v/4//P/6f/p/9//4f/m/9z/7//p/+P/4P/b/8//w//K/8b/vf+4/8H/0v+4/8j/yP/C/9X/1v/f/+b/5f/k/+n/7v/+////+P8BAAMABwAOACQAKgAlACEAHQAdABYAHwAJAAYACwAGAAAA9/8LAAEA7f/o/+n/6P/0//T//v8EAOX/9f8DAAIA/v/0//r/AgAAAAMABwALABIADAAIABgACwAdABgABwAYAA0ACwAHAPz/8P8EABEAAgAdACIAJQAsABcAHAAuACQAHQAiACUAIgAnACEAHQAgABMACwAQAPz/BAAJAA0AFwADAAMAAwD///n/9f8CAAcA/P8MAAwACAAEAPT/7v/+/wQADAAOAAgAAwD6//z/6v/r//D/3//1//X/CAAOAPD/CwD///7/BAAHAAkA/P8IAPr/9/////X/+f/w//n/+v8BAAYABgD3/+r/9P/1//j/7v8BAA0AEQADABUAEwD4//7/BwD+//3/AgDz/+r/7f/6////AAATAAsAEAAOAAcAFwAGABIADQAAAAkAAQD3/wgAAwD1//f/6v/X/9D/2//a/8z/uP/D/9v/5P/a/+7/9f/3//X/+P/5//T/AgD9//n/CAANAP//DgASABIAHAAaACAAGwALABUADQD8/w0AEgANABsAJgAgADAALAAYAB8ACwAIAPz///8EAPz/BwAIABEADQAJAAkA//8HAPz//P8BAPf/9P/1//T//v/9//P/DAD9//z/BwD0//X/+f/t/+X/7v8BAAYAAwATACIAEwAQAAYACQAMAPz/EAAOABgAGAAbAAkADQAOAPj/AAD9/wQA+v/8/wIA6//w/+//AAAIAPL/BAAWABsAFwAMAAgA9//5//z/EgAWAAkAFQATABAABwAQAAkA+P/8/wAA+P/8/+P/1f/c/+H/1f/M//D/+P/4/9v/1//b/9f/2f/U/8//1v/I/9v/3//m/9//0v/l/9//5f/r//D/5f/k/+b/2f/v//z/8//8/wEABgDu/+3/+v/q/9//6P/q//n/8//5/wIA9f////z/BgAEAAEACwD8/xMAEQALAA4AGwAfABwAJAAuACkAFQACABsAFgADAP7/EgAbAAkAEQANAAgAEAAJAAIABwAIAAEABwAaAAIABgACAAIA///1//T/8/8CAAAA+f/8//n/7v/y/+D/9P/t/+b/+P/t/+3/7f/6//n/AAD9/wEACQATABwAJQApACwAIgAYACAAGgArABwAFwAXABEABwAcACQAEQAfABIAAQALAPj/9//y/+b/5f/g/+H/1//f/9T/3P/a/9f/1//c/+j/7//k//X//f/9//7//f/6////DQASAAYAAAAHAA4ADAAIABsAEwAXABEAIAAVAAIAGgAQABYAFQATAB0AKQAnAB8AFwAQAAYA/v/o/+7/9//w/wEACAAJAP7/9//1//n/7v/b/83/1P/V/8z/2//f/9n/1P/a/97/6v/j/+j/5P/z////BAD//wAACAAEAAkAFQAiABYAHQAlABUAEAANACAAHQAOAAwAIgAhAAMABgAIAP3/+f/0/+b/9//3/+j/4//z/+7/+v/4//7/EAAQAAYAEAAbAPz/CAAkABoAFwAbADEAMQAsACAAGAAbABwAKwAgABYAJAAVABMAJgAdADgAKQA5AD8AHwAfABwAEgAGAAkAEAAOAAcA/f8HAAMA+P/8//j/8//u/+T/6P/4/9z/z//Z/9X/2//k/+j/5P/4/wIA+P8EAA4ADgD6/wEAIAAMAPz/IQAXAA4ADQAXAB0A/v8BAPz/6v/f/+//3//l/+X/1v/b/9z/5P/V/97/6v/w/+j/5f/v//T/4//t//f/EAANAO//+f/5//D/6f/p//T/6//l/+3/6//o/97/5v/c/9//3v/m/+D/5f/3/+r/7//0////4f/3/wQADAAGAAcAHQASAAgABAD//+T/8v/r/+b/9f/t/wsAAQD8/wIABwAMAAYAAgARAAsAGAAcABIANAAvAEcAPwA9AFwATgBWAEgAPwA6ACwALgAmABEAGgAVABEAHQATABMAEAABAP7/8P/j//L/8v/w/+//4//o//T/6P/l/+X/5v/a/9r/7v/t//f///8CAP3/AwD+//T/9//v/+X/7v/5/wMA8v/t//T/8v/k/9v/5v/h/9v/4f/V/9v/4P/W/9b/4P/r/+H/2/////3//P/8//7/EADp/+//8P/r/9n/2v/j/+j/5f/Q/+//9P/1//r////9/+//8//9//f///8QAP3/EAALACAAHAAmAC8AJwAhADkAOQAfAB0AJwAdAAkAHAAVABcA//8AAPn/7//8//f/DAD+/wYAFwADABEACwAJAAAA9/8EAAAADQAfACkALAA7AC8ANQAxACcAJQAOABUAAgAJAPn/6P/z/+v/8//a/+7/3v/k/9//5v/y/+X/5f/a/97/2f/c/+T/4f/q/+D/8//5//D/7v/p/+//9f/5//n/5f/f/9b/yv/M/8f/z//M/9H/4f/b/+H/7f/l/+P/3v/w/+v/5f/z//P//P8CAPL/8P/q//D/9P/q//D/+f/5//X/8P/6/+r/5f/j/+r/4//w//z/9//9//r/BgAEAAIACAAEABcAGwAHABMAKQA0ADkALwBEAEAAIQAxADMAOQAvAC8AKQAdACwAGwAbABUAGgAHABYAEQATABsAFQASAAMADAACAAEA+P/1////CQAbABEAJQAlACAAIAAvAC4AJAAiABAAHQAOAAYACAAJABMAAAAXAB0AJwApACIAHQAiABwAHAAcAB0AIgAOABEACwAJAAMA9f/9/+////8BAAYAAgD9/wEAAQD5//P/6//g/9D/yv/U/9z/5v/X/+T/1v/g/+T/xf/Z/9n/yP/N/9X/7f/l/97/2//f/9v/3v/g/+3/8v/v/wAA8v/4/+r/3//b/9v/zP/M/+X/6P/w/+X/CQAHAAYADAARACoAFQAOABEAGgAQABwAHAAaACsAIQAWACYAMwAWABcACwAOAAIABAAWAAYAEAD8//j/BAD1//T//v8SABcACwAdADAAGgAQAAwAGAATAAMAEwAfABMADQARABMAIAARAAkADAAIABcABgAcACEAGgAqACoALAAqACcAHQAaABcAHwARABAADQAIAAsAAAAHAP7/AgD///f/AAD4//j/+P/v/+7/1P/V/9v/0P/b/+T/4f/h/+n/9f/y//3/+P/l//L/6//c/9b/zP/K/8H/wP/D/9n/0P/M/83/xf/N/9T/yv/M/9X/uP+9/9D/4f/Q/9H/1//f/9T/4f/m/+7/7f/e/+n/8v/z//T/+v/v//r/9//5/wIACwATAAgAEwASABMAHQAVAAkABwAJAAQAEAAVABgAIAAgACAAFwAgADMAJwAiAC8AMwBEADgANgA6AD8AQgAvAEAARAAvACYAIQAnAC4AMwAmADAAPgA2AC4AMQAsADAAKgAlACIAMAA7AC4AMwA0ACYAIQAbACIAGAATAAQA9//0/+v/4f/c/+H/1f/U/9H/vv+9/9L/0v/R/+X/3//c/9X/0v/L/8H/vf+9/7P/vf++/77/x//D/7v/qP+u/7L/sf/D/7n/yP/I/97/6P/t//7/9f/w/+7/7f/q//P/7//k/+v/7v/a/9n/2//c/83/xf/K/9D/3//h//X/+P/1/wYABgASABIADQASABUAHQAdACQAHQAmADAALAAsAB0AKgAnABwAIAApACYAKQAfACYAJgAiAC8AMwAsADAALgAxADgAOgBHAE8AQgA5AEcARwBRAD0AOAA0ABsAGwApADEAJQAbACEAJQAhAC4AJAAgACYAGAAaABwAFwAcAAwAAwDv/wAA/P/6/wEAEAALAPT/AAD0//3/+v/6//j/6v/u//D/7v/5/wAA9//6//f/8P/3//z/7f/4//n/7v/9//z/BgD3//X/8//f//n//f/8////9P/+//r/9P/k/+H/6f/a/9//8P/8/wAA+P/6/+3/4P/h/+b/7f/l/9//1f/N/+D/3//j/9//1v/Z/9L/3P/y//3/9f/1/wEAAgABAAAA8//p/9r/1P/Q/83/z//M/9n/w//Q/97/0v/e/9b/3v/e/+r/8P/o//j//f/+//j//v/5//3/9f/k//P/8P/o//L/BgABAAQA/P/8/wkAEwAXABUAJAAiACUANQAvACsAMwAxACIAEQAWAA4ABAALAAkA/f/5/wAACAALAAQAAwARAPz/BAAOAAwAGAAWACcAIAAbABMAEwACAPP/9f////X/5v/t/9v/3//j/+7/5f/r/+b/2//h/9r/8v/u/+P/6P/b/9T/zP/g/9H/2f/b/97/3v/a/9z/2f/j/9f/2//b/+j/5P/r/+3/7f/8//3/AQD9//r/AQD1/wQAAAD5//r//f/5//L/7f/3/wEAAAARAAwAIQAXACYALwAsACUAFQAVAAsAFwD1//z//f/0/+7/8//r/+n/+f/9/wIACAAIAAYADgAWACAAIAASABwAFgAJAAMACAD//+b/8v/u/+3/+f8CAAIABAD+/wMAFwATACYAGAAlADMAGwAdABgAFQAYABcAEgACAAcAAQD0/////f/8/wsAFgArADMAHAAfABUAEwAJABEADgAEAP//AAD9//z/6//g/9n/3P/L/9L/2//f/9z/3P/q/+b/+P/y//n/+v/1//j/+P8BAAMAAwAGAAMAAgDy/9//3v/g/9//8v/y/wMACwALAAMAEgAQAPD/CwD+/wQA8P/z//z/+P////P/AAAAAAIABwADAAsACAALABUADQAfADAAJQAuACsAHwAVABgAHAARABEADQAVABoAFgAdACAAHQAXACYAJgAkADUAGgAzADEAIQAXABEAFQD6/wIAAAD9//n/+P/1//n//f8DAPn/9/8CAP//9f/+////AAALAAYADgADAPD/CAAVABAADAABAPD/6//v/+7/6P////T/9P/4//L/+f/l/////f/0//j/9P/q/+v/7v/m//L/6//3//X/9//5/+b/7f/1//P/7v/q/+v/4P/c/9r/2v/g/+b/3P/g/+T/+v8AAAAACQD6//j/5P/6//P/9//1//L/+v/p//L/3P/q/9v/2//t/+b/8P/t//D/7v8BAO///f/5/+b/+P/l//D/8/8LAPn/AAAGAP3/AAAAAAIABAAHAA4AGgAgACAAJAAaABEACQABAAYAAAADABcAEwAIABIAEAATABUAEgAWAA4AEgADAAgAAQD9//7/AAAIAPz/AQD9//r/8v/o//f/9f8HAAIAAgD6//7//f/r//D/7v/z//f/6f/q/+D/4P/o/+r/5v/Z/9//5P/q/+X/8P/1//z/+P/1/+7/7//m/+r/6//r/wAA4P/y/+v/8P/3/97/7//r/+P/7//u/wAAAAAJABAAGgAkAB8AIgAiACkAGwAVAB0AEAATABUAGwAdACAAJwAvACQAKQAiACkAIQAqADAAIgAxACAAHQAXABoAIgATABcAGAAJAAgADgAVABUAGgAYACEAHAAMABUAGgAQABwADQAVABUADQATAAQACwALAAYA/f8TAAQACAAWAB0AGwARAA4ACAAMABIADAANAA0A/f///wYA/f8CAP///////wYA//8BAAQACwAAAPj/9f/w/+3/6P/g/+b/4//W/+r/1f/Z/9v/y//U/9b/wv/H/8X/xv/S/8f/1P/X/83/z//F/8X/yP/G/8f/x//C/7f/vf+u/7f/t/++/9D/w//C/9f/2//g/+//8v/0/+3/4//v/+T/7f/u//P/+P/5//P/9//8//z/9//6/wcABAAVACYAEwAgACAAJgApAB8ALwA1AC8ALgAsACoAJgAsADUANgA4ADgAOwAqADEAJgAfACcAGwAhACIAJQAqAC4AFgAhABsAIAAMAAsADgAIAA4AAAACAAIA+v/+//X/AAD9/wcADQAQABoAIQARAA4AEgAEAAcAAQAMABAADgATAB0ALAAfAB8AIQArACcAJgArADMAKwAgAB8AGgALABcAGgASAA0AFgARABAA9//1//D/7v/m//X/7f/0//n/8P/h/9n/3P/h/9//2v/p/9z/1f/W/9T/0P/Q/9D/wP+0/7b/yP/N/8P/z//N/8v/x//F/8j/xf/N/8H/xv/K/8j/1f/L/9L/2//c/+P/5f/u/+P/5P/0//f/6P/w//X/9f8GAAAAAwAOAAQA+f/8//3/BgAMAAwADQAOACkAGgAXACwAHAASAB0AGAAVABoAGgAcAB0ADgAYACEAEwAXACsAEgARAA0ABAAGAAAACwAGAA0ADAACAA4AEgATAAwAEQARABUADQABAAkABgAEAAQAAgD+/wEACQAIABAACQANAAYA/f8BAP//9f/4//L/5P/z/wAA+v/9//j/6v/t/9r/4P/z//z/AgAIAAkAAAAJAAsADgALABUAHAAaACQADgAIAAcA//8EAP3/AgAIABcA+v/w//j/5v/c/9//5P/u/wIA+f/9/wAA8//3/+r/5v/g/+7/6P/q//3/+P/9///////3//z/AAD///7/+v8OABIADQALAA4ADQAAABgAJgAiAB8AFwAcABEADgANABMAFQAhABUAFQAuABsAFQARABEA8v/4/wkADQAgABMAGgARAAMA+P/3/wIACAAOAAEAAgD6/+7//P///wMACQAMAAEAJgD5//D/AQD8/xoAif/U/wcApP8CAPz/IQAEABYADQDA/83/lv+x/7b/yv+o/7j/9f/9//3/BAD//9v//v8AAPn/+f8BAPz//v8BAOv/CQAEABUAIAAQAAgA7f/0/wwACwApACQAHAACAPr//v/m/xAAFwAkACIAKQA/ABsACwAIAA0A8//3/xUAFwAVABwAEAAsACAAAAASAAMAAQDm//n/BADz/wkADQAXACUAGAAiACkAGwAYACcAIQAHAO7//f8BABgADAAQADQALgAWACwAMQAQAAQADQAJAAsAEgAWABsALwAWAPr/HQD///T/BwD//wwAAgDw//D/DQApAPj/9f8vAP3/5P/1/+3/AgDc/+//EADt/9//8/8kAOT/6//u/83/yP+3/6T/rv/m/8L/xv/5//X/4P/h/wMA5v/r//z/7//l//P/AQAYACAAAwAkAAMABgADAPn/GAD8/w4A/P/h//P/9f8AAO3/+f/4/+H/2//6/+//6////wYACwDh/wsAFwD5//n///8WAP7/DQD0//j/FgAQAAAADQAHAOH/+v8LAP7/6f/1/wEA3P/p//X/5v/z//P/6f/v//3////1//7/AwD4//z/7f/4/+7//P/5/+D/7f/t//X/8v/o/+//8v/+/yAACQD+/xEAGAAHAAQAFgAQABcAGwAHAAwA/P/z//r/CwACAPr/FQALAPj/AwAIAAwAAAD6//L//v8TAPP//f8WAA0A8//0//3//f8CAAkAEwASAAMA+P8YAPD/7v8BAPn/IgAWABAADAA0ACsA//8cAB8AFgASAB8ALwA/AEUAIgA5AC8AAwATAB8AAgD8/+v/6f/o/9T/0f/1//r/3P/q//j/7v/8//3/AAAVAAYACAD//wkACwASADoAKQAqACEAGwAhAA4AFQAbACQAGgASAAYAAQACAAYAAAAHABoAAgAOABAAHAAEAAcAEAD5//j/7v8DAAcA6/8BAP//BAADAP7/CwATAAAADQAOAAwACwAOABEAAwD4/+3/7//5//T/7f///wYA/v////f/+P/w/+//8P/3/+r/4P/l/9T/1//e/+D/1f/f/9r/w//W/9//1f/W/+//7v/0//P/6/8HAAsABwAEABAADAAOABMACwAGAP//CAAJABUABAD+/wsABwAAAA4AGAAJAAkAJwAYAB0AKgAkACkAJAAiAB8AIAAlABgAKQAqACcAGgAVAAYACwAOAP//AQD9//n/8v/+//T/AQAGAPj/DQD8//j/9P8CAO7/3//0/9//6v/o/+r/9P/3/+//1v/z/9//2v/k/+H/4P/j//7/8v/6//X//v8IABwAFwAOACEACAArAB0AEQAiAAwABwD//xAA/f8AAAIA9f/8//L/9f/l/+7/8v/g//L/7v/a/9z/7v/w/+j/6P/o/9H/zf/D/7z/x//N/9f/yP++/9f/2v/h/+H/6P/3/+j/7//v//r/AQD1//L/+v/5/+P/6f/y/+D/1v/p/+n/1//c/9//6P/y/+//7/8HAAQACAAbAB8AFwAQABgAEAAEAAEA+f/+/wMAAgAEAAQACwADAAkAGAAfACoALgArABcAEAAgABIADQALAP//DAAOAAYAAQALABAA/P8DAAIACwAEAAEABwAEAAsA//8BABcAAQARAAgA/v8IAPz/CAAIAPz/AgD6/w4ACQALAAgADQAVABgAGgAYABEADgAcAA0AIQAWABsALgAgADoAKgBMAEQAQABIAEAATwBCAEoAOAA1AC8AGgAkABcAFgAQABIAGwAlADMAOQApABsANAA5AEAANQA6ADQANABDACUANQAnABYAGgAIAPL/5v/u/9v/1P/M/9X/yv/A/8v/0P/b/8z/1v/V/+D/2//e/9//x//N/8L/wv+3/7n/wf+z/77/t//B/8v/1v/e/+P/8/8AABIAEwASAAwAEwAIAAcAEwAOAAEACQALABEADAADAAIAAwAHAAMAAQASAA0ABwANAAEAAgD3//X/8P/5/wMA9f/5/wIA/P/v//7//f/5//j/9P/v//f/7/8AAAkA/v/+//n//v/6//T/6//6//j/7f/4//3/9P/4/wAA/v8IABwAGwARABMACQABAAkABAD0//3/9P/r/+r/8v/0//X/4f/f/9//6v/l/+//+v/m/+n/6f/g/97/2f/m/+P/3v/k/9z/3v/c/9n/1P/b/9X/2v/f/+P/4P/X/+7/7f/y//T/5v/l/+P/6v/k/+j/5f/h/+b/4//1//P/8//8//7/EAAYAB0AEQAdAB0AGgAkAAsAEgAVABcAEAATACAAGwAnACAADQAdACoAMQAuAEQARAAgACkAPQAqADQALAAiABoAEwAcACQAIgAxADUARwBMAEQATQBPAE0AOwBDAD8APwA+AD8ANgAvACsAKwArACoAGwAJAAkA/P/6/wEA9f8AAPz/+v////P/7//X/+P/2v/R/9//3P/W/9f/3v/X/+D/1P/k/9v/3//v/+T/5v/h//r/3P/W/97/4//a/9H/6//U/9f/6P/g/+3/6P/r/+//9f/4//f/+v/6/wMAAQAOAA0A+v/u/+X/7f/6//X/+P8CABAADgAOABMAFwAiADEALgAzADAAKgAuADAAGgAdAA4AEwAWABcAFgAQAAsA//8IAAQA+P8BAP3/+f/o//P//f/t/+v/5f/o/+H/yv/h/97/2//r/+X/8v/v//n/+f/t//3/6P/l//f//f/w//X/+v/q/+3/7v/m/97/6v/p/+3////9//7/BwAOAA0AIAAsAB0ALAAxAC8AKgAmACwAHwAxACsAFwAXABsAEwAgADEAJgAnADUAKQAuADMAHAASABgABwALAAAAAAD8//X/CQD8//X/+P/k/9z/2v/f/9r/2//g/97/9//h/9n/0f/V/9b/w//L/8r/yP/L/9n/3P/a/9z/2v/k/+b/3v/j/+j/7v8CAAMAAAAAAAAACQASAAwAAwALABMAGgAqAEIAKwAzADoAKgA9ACIAMQArACYAPQAzADYAKgA4ADUAHAAaABUAEgARABUAKgAgACcAKwA5AD8ANgAzABoAFwAYABcAFgAHAPP/8P/r/9v/3v/c/+H/3//S/9b/2f/V/8z/1f/F/8//3//I/8X/1v/H/8z/1P/V/9b/1v/g/8j/3P/o/+3/8P/v////CAAMAB8AJgAlACEAIAAhACAAGAAfACcAJQA4AC8AJAA0ACsAMQAqACcALAAXABoAEgAJAAAACwAIAAcA/f/o/+P/4f/k/+D/3//b/9T/yv/X/9b/uf/P/8//vP/D/7v/vP+8/67/rv+s/6D/r/+n/53/s/+9/7v/yP/b/+T/3//Q/+H/7f/t/wAADAARABAACwAMABEAGwAXABgAGgAhACwAJAAiADYAMAA/AFMATQBMAFQARAA0AEcASgBTAEMAQgBEADUANgA6AEIARwBCADkARwBAADoAPgAxADEAJgAaABcAHwAbACcAJgAhAC8AGAAOABYAEwAaAB8AAgAIAAwACAAHAAYA/v/h//P/8v/M/8P/3//V/8j/y//I/8L/uf+4/7b/vf+7/6n/p/+p/7H/qP+t/6n/nv+o/6D/nv+Z/5X/ov+q/7b/vv+x/7j/u//A/8P/vP/S/9r/5P/1//P/+P/9/wIAAwD//xUAEwAWACAAKgAvACYAIQAsAC4ALgAvACoAMwAwADgAOgArADYAOgArAD4ARAA0ADgANgAlACUAIgAnACkAHwANAAIA9//t/+X/zf/S/8r/zP/R/8z/w/++/7j/xf+5/7z/wf/D/8r/0P/P/7n/xv/M/8H/x//F/9D/yP/I/9L/4P/j/+r/6v/y/wYAAwAVABIAKwAvADAANAAuAD8AKwA7AD8ANAAsADMAPgAwADkAMAAlABsAKgAuACYAFgAVAB8ADgAaABoAFwASACIAGwALABwAGAAYACsAKgAwACoAIAAlACsAIAAiACsAJQAlACcAIAAcABcAIAAgABgAGwAgACYAGgAwADsAKgAhAC4ANQAuADEAGAAGABAABgD5//X/8P/c/9n/4//b/9T/1v/X/97/1f/X/+n/5P/U/+P/4f/p/+P/2v/o/+7/5v/e/9//1//c/8v/yv/Q/8H/zf/L/8v/zf/I/9v/wf/F/8D/wf+8/8r/z//R/+H/0f/a/9T/zf/q/+3/8P8NABAAAgAsADUAIQAlACEAIAApACsAHwArACsAKQA4ADgAPgA5ADYAPgAwAEMAVABCAEwARQA7AEcANgApADUAJgAiACIADQAWAAgACAADAPr/4//h/97/xf/S/8b/yv/P/9D/0f/I/8b/wf/B/7v/xv+9/8D/zP/K/8P/zf/P/7v/vf/P/83/1P/a/9X/1P/Z/+T/4P/S/+T/2v/f/97/3P/w/+//7//6/+//7v8BAPn/CwAEAAAADQD//wkAEQARABAAHAALABEAIAAcACYAJAAcABgAJAAlABAAGwAvAB8AEwAMABAABAD///j/5v/v/97/4//k/+T/5f/Z/9n/1//j/+b/6v/y/+//8//5//j/+v/5//3//f8CAAgAEAALAPn/CAAgABYAEQANAB0AIQAaAA0AFQAYABoACwAMAAIAFwAgABcAEwANABsAGwAmACUAHQAwACcALAAuACsAMAA0ADAAMAAxABoAMABEACYAOgA9ADAAKgARABUADgAOAAYADAAJAAEA/f/0/+H/2f/j/9X/w//H/8H/vv/B/7z/xv/H/77/tP+5/7T/vP/N/9L/0P/f/9b/0v/c/8r/zf/Z/9n/2v/0//D/7v/0//X/9f8EAAsABwAHABEAHwAgAB8AIQAgAB0AFgApACsAHwAbACYAJAAcACkAJgAqACoAJAAlACYAMQAuAC4APQA5ADQAJgAqAC4ALgA5ADoAQAAxADQALgAqAC4AJgApACcAHwAYABcACwAAAP//9f/t/+X/5f/p/+b/2f/f/9z/2//S/9f/z//A/8v/xv/C/8L/u//D/9D/1v/c/9n/2f/U/9r/0v/a/+T/1f/S/+X/0P/I/83/1P/X/9v/2v/f/+P/5f/c/+D/5v/v/+P/8v/6/wEADAAGAAgAAwANABYAFQAaACQAGwAaACIAKgAbACYAOAAzADgANAAwADgAOgA1ADYAOQAzADkAKQAnACkAJAAYABAAEAAOAP7/DAD6//j//P/3//D/6P/j/+3/+P/b/+b/4f/o/+n/5P/m/9z/7f/o/+v/8v/4/+3/7//3/+////8DAAgA9//0/wIABAD1//P/BAAMAAAA/v8GAAAAAAD8//T/5f/6//7/6//3//j/5v/k/97/5v/l/9r/5P/p/+7/9//6//3/+P/y/+v/6P/q//P/8//5//X/7//0//j/6v/3/wYA/P/+/wYA/v8QAA0A+f/5//n//P8BAPr//P/t//n/+f/3/wgAAwD//wQACAAGABMAEQAXABwAIAAmAB0AEgAaACQALAAcACQAJQAgACUAIQAnACIAIgAkAC8AJwAmACYAIgAnACYAKQASAAgACwD9/wAAAAADAAAA7v/5/wQA+v/z//z/+v/v//D//P/v//r//f8CAPn/+f8EAPz/AAADAPz/AAD1//z/8//q/+7/+v/5//X/BwD0//r/8P/t/+D/4f/l/9//4//f/97/0P/S/9f/zf/c/9X/1f/P/9r/1v/o//L/5P/h/+3/+P/5//X/8v/u//L/7f/u/+H/7v/3/+7/6P/z/wAA6//z/+X/5f/r/+T/2//h/+j/4//j/+H/6P/g/+X/5P/m//T/1//r/+7/8P8HAA0AEgAMAA4AEQAXABEAEgAgAB0AIQArACYALwAsACwALAAlACQAIgAbAB8AJQAnAB0AHAAkABUAHQAfACIAJgAdAB0AGAAdAB0AJAAYABUAPQA4ADEAOAA7ADkAMAAnABYAJQAmACcAHQAiAC4ALAAhABgAIQAcABcAFwAcABgAFgAsACAAHwAVAA0ACQAIABMAEAALAP////////3/AgANAA4ADgANABEAHwAJAAsACQAGAAgAAAAAAP//BAABAPL/7//3////8//0/9n/3v/f/9z/6P/a/9f/3v/j/83/y//A/73/x/+9/7v/qP+n/77/w//B/7v/y//K/9D/2v/V/8r/2v/a/9b/6P/e/9v/0f/a/97/1v/u//L/6v/3//7/CQD///X/7//8/wAA/P8HAAwAIQANAPr/CAD//wEABwAVABgAGAAkACAAGAAYAB0AIgAvAC8ANQA4ADsARwA9ADEAPwBFADYAPQBCAD0ANABFADsANgA2ADAAOgA+AD4APQA0ADUAMAA2AC4AIgAbABEAEgAHABAADAD1/wMABwD5/+7/9f/b/+P/5f/c/9b/0f/j/83/1v/M/+7/3P/M/9v/xv/P/8L/1f/M/9D/yv/D/8j/uf/F/8j/y/+9/8j/vf++/9X/0v/S/7z/w//D/8r/yv+7/8r/wf/H/8H/xv/D/9T/2v/L/9H/0f/W/9f/z//D/9L/1v/g/9X/5f/p/9//3//g/+n/5P/v/+j/6f/0////6v/o//j/8P8AAPn/+f/+/w0AEgADAAkADAAOABYAGwAXABsAHwAmACkAIgAkACkALwApAC8ALwA6AEgAPwA4AD0ANgA2AD4APQA/ADoAKwAwAEQAPgAvAEQAPwA1ACYAJAAnACIAFQAbACQAHQASABoAHwASABcABAAHAAEA+f/9//X/+v8CAP//8//8/+//9f/y//j//v/m//P/8P/t/+P/z//Q/8X/xv/W/8//zP/Q/8r/yv/C/8P/2v/I/8v/4P/o/8//yv/k/9T/z//S/+j/6v/z//z/9P/q/+///P/6/+7/+f8HAPn/AgANAAAAAgAGAAcAAwAfACoAKgAiACAAHAAbABcADQAiAA4AGgAgAA==\" type=\"audio/wav\" />\n",
              "                    Your browser does not support the audio element.\n",
              "                </audio>\n",
              "              "
            ],
            "text/plain": [
              "<IPython.lib.display.Audio object>"
            ]
          },
          "metadata": {
            "tags": []
          }
        },
        {
          "output_type": "display_data",
          "data": {
            "text/html": [
              "\n",
              "                <audio controls=\"controls\" >\n",
              "                    <source src=\"data:audio/wav;base64,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\" type=\"audio/wav\" />\n",
              "                    Your browser does not support the audio element.\n",
              "                </audio>\n",
              "              "
            ],
            "text/plain": [
              "<IPython.lib.display.Audio object>"
            ]
          },
          "metadata": {
            "tags": []
          }
        }
      ]
    },
    {
      "cell_type": "markdown",
      "metadata": {
        "id": "XADFDtW81Md5"
      },
      "source": [
        "Formatting the Data\n",
        "-------------------\n",
        "\n",
        "For the waveform, we downsample the audio for faster processing without losing\n",
        "too much of the classification power.\n",
        "It is common for some datasets though to have to reduce the number of channels (say from stereo to mono) by either taking the mean along the channel dimension,\n",
        "or simply keeping only one of the channels. Since SpeechCommands uses a\n",
        "single channel for audio, this is not needed here.\n"
      ]
    },
    {
      "cell_type": "code",
      "metadata": {
        "colab": {
          "base_uri": "https://localhost:8080/"
        },
        "id": "HTQv2AT8Jk5S",
        "outputId": "51e9f674-4e55-42a1-bfb3-a48b8b1623ec"
      },
      "source": [
        "train_i = None\n",
        "for train_i, *_ in test_set:\n",
        "  if(train_i.shape[1]!=16000):\n",
        "    break\n",
        "\n",
        "print(train_i.shape[1])"
      ],
      "execution_count": null,
      "outputs": [
        {
          "output_type": "stream",
          "text": [
            "10923\n"
          ],
          "name": "stdout"
        }
      ]
    },
    {
      "cell_type": "code",
      "metadata": {
        "colab": {
          "base_uri": "https://localhost:8080/"
        },
        "id": "G4hPID9MKis0",
        "outputId": "be1c3087-7fe5-478c-9e9e-c356f54620e6"
      },
      "source": [
        "mfcc_transform = torchaudio.transforms.MFCC(n_mfcc=12, log_mels=True)\n",
        "# Always DO .squeeze(0).transpose(0,1)"
      ],
      "execution_count": null,
      "outputs": [
        {
          "output_type": "stream",
          "text": [
            "/usr/local/lib/python3.7/dist-packages/torchaudio/functional.py:318: UserWarning: At least one mel filterbank has all zero values. The value for `n_mels` (128) may be set too high. Or, the value for `n_freqs` (201) may be set too low.\n",
            "  \"At least one mel filterbank has all zero values. \"\n"
          ],
          "name": "stderr"
        }
      ]
    },
    {
      "cell_type": "code",
      "metadata": {
        "colab": {
          "base_uri": "https://localhost:8080/",
          "height": 134
        },
        "id": "eFUYOSIoHHgl",
        "outputId": "3960977f-287f-437f-8659-5fd901276f96"
      },
      "source": [
        "wave_mfcc_i = mfcc_transform(train_i).squeeze(0).transpose(0,1)\n",
        "wave_mfcc   = mfcc_transform(waveform).squeeze(0).transpose(0,1)\n",
        "\n",
        "plt.imshow(wave_mfcc.transpose(0,1).numpy())\n",
        "\n",
        "print(wave_mfcc.shape)\n",
        "print(wave_mfcc_i.shape)"
      ],
      "execution_count": null,
      "outputs": [
        {
          "output_type": "stream",
          "text": [
            "torch.Size([81, 12])\n",
            "torch.Size([55, 12])\n"
          ],
          "name": "stdout"
        },
        {
          "output_type": "display_data",
          "data": {
            "image/png": "[encoded data removed]",
            "text/plain": [
              "<Figure size 432x288 with 1 Axes>"
            ]
          },
          "metadata": {
            "tags": [],
            "needs_background": "light"
          }
        }
      ]
    },
    {
      "cell_type": "markdown",
      "metadata": {
        "id": "LtiYkcZa1Md7"
      },
      "source": [
        "We are encoding each word using its index in the list of labels.\n",
        "\n",
        "\n"
      ]
    },
    {
      "cell_type": "code",
      "metadata": {
        "id": "gLjtZEtx1Md7",
        "colab": {
          "base_uri": "https://localhost:8080/"
        },
        "outputId": "c88df70a-fdf1-44ce-84b3-01c0f340c2c4"
      },
      "source": [
        "def label_to_index(word):\n",
        "    # Return the position of the word in labels\n",
        "    return torch.tensor(labels.index(word))\n",
        "\n",
        "\n",
        "def index_to_label(index):\n",
        "    # Return the word corresponding to the index in labels\n",
        "    # This is the inverse of label_to_index\n",
        "    return labels[index]\n",
        "\n",
        "\n",
        "word_start = \"yes\"\n",
        "index = label_to_index(word_start)\n",
        "word_recovered = index_to_label(index)\n",
        "\n",
        "print(word_start, \"-->\", index, \"-->\", word_recovered)"
      ],
      "execution_count": null,
      "outputs": [
        {
          "output_type": "stream",
          "text": [
            "yes --> tensor(33) --> yes\n"
          ],
          "name": "stdout"
        }
      ]
    },
    {
      "cell_type": "markdown",
      "metadata": {
        "id": "pHZwDTnd1Md7"
      },
      "source": [
        "To turn a list of data point made of audio recordings and utterances\n",
        "into two batched tensors for the model, we implement a collate function\n",
        "which is used by the PyTorch DataLoader that allows us to iterate over a\n",
        "dataset by batches. Please see `the\n",
        "documentation <https://pytorch.org/docs/stable/data.html#working-with-collate-fn>`__\n",
        "for more information about working with a collate function.\n",
        "\n",
        "In the collate function, we also apply the resampling, and the text\n",
        "encoding.\n",
        "\n",
        "\n"
      ]
    },
    {
      "cell_type": "code",
      "metadata": {
        "id": "PrJp-i9r1Md8"
      },
      "source": [
        "def pad_sequence(batch):\n",
        "    # Make all tensor in a batch the same length by padding with zeros\n",
        "    batch = [item.t() for item in batch]\n",
        "    batch = torch.nn.utils.rnn.pad_sequence(batch, batch_first=True, padding_value=0.)\n",
        "    return batch.permute(0, 2, 1)\n",
        "\n",
        "\n",
        "def collate_fn(batch):\n",
        "\n",
        "    # A data tuple has the form:\n",
        "    # waveform, sample_rate, label, speaker_id, utterance_number\n",
        "\n",
        "    tensors, targets = [], []\n",
        "\n",
        "    # Gather in lists, and encode labels as indices\n",
        "    for waveform, _, label, *_ in batch:\n",
        "        tensors += [waveform]\n",
        "        targets += [label_to_index(label)]\n",
        "\n",
        "    # Group the list of tensors into a batched tensor\n",
        "    tensors = pad_sequence(tensors)\n",
        "    targets = torch.stack(targets)\n",
        "\n",
        "    return tensors, targets\n",
        "\n",
        "\n",
        "batch_size = 256\n",
        "\n",
        "if device == \"cuda\":\n",
        "    num_workers = 1\n",
        "    pin_memory = True\n",
        "else:\n",
        "    num_workers = 0\n",
        "    pin_memory = False\n",
        "\n",
        "train_loader = torch.utils.data.DataLoader(\n",
        "    train_set,\n",
        "    batch_size=batch_size,\n",
        "    shuffle=True,\n",
        "  https://colab.research.google.com/  collate_fn=collate_fn,\n",
        "    num_workers=num_workers,\n",
        "    pin_memory=pin_memory,\n",
        ")\n",
        "test_loader = torch.utils.data.DataLoader(\n",
        "    test_set,\n",
        "    batch_size=batch_size,\n",
        "    shuffle=False,\n",
        "    drop_last=False,\n",
        "    collate_fn=collate_fn,\n",
        "    num_workers=num_workers,\n",
        "    pin_memory=pin_memory,\n",
        ")"
      ],
      "execution_count": null,
      "outputs": []
    },
    {
      "cell_type": "markdown",
      "metadata": {
        "id": "3fjxsAaw1Md9"
      },
      "source": [
        "Define the Network\n",
        "------------------\n",
        "\n",
        "For this tutorial we will use a convolutional neural network to process\n",
        "the raw audio data. Usually more advanced transforms are applied to the\n",
        "audio data, however CNNs can be used to accurately process the raw data.\n",
        "The specific architecture is modeled after the M5 network architecture\n",
        "described in `this paper <https://arxiv.org/pdf/1610.00087.pdf>`__. An\n",
        "important aspect of models processing raw audio data is the receptive\n",
        "field of their first layer’s filters. Our model’s first filter is length\n",
        "80 so when processing audio sampled at 8kHz the receptive field is\n",
        "around 10ms (and at 4kHz, around 20 ms). This size is similar to speech\n",
        "processing applications that often use receptive fields ranging from\n",
        "20ms to 40ms.\n",
        "\n",
        "\n"
      ]
    },
    {
      "cell_type": "code",
      "metadata": {
        "id": "tecZqCYENufM"
      },
      "source": [
        "mfcc_len = 12\n",
        "hunits   = 400\n",
        "layers   = 3"
      ],
      "execution_count": null,
      "outputs": []
    },
    {
      "cell_type": "code",
      "metadata": {
        "colab": {
          "base_uri": "https://localhost:8080/"
        },
        "id": "fi57ZymuLWqt",
        "outputId": "565756fe-1c35-43d2-f75b-6f613decc22d"
      },
      "source": [
        "class MyLSTM(torch.nn.Module):\n",
        "  def __init__(self):\n",
        "    super(MyLSTM, self).__init__()\n",
        "\n",
        "    self.rnn = torch.nn.LSTM(input_size = mfcc_len, \n",
        "                              hidden_size= hunits, \n",
        "                              num_layers = layers, \n",
        "                              batch_first=True)\n",
        "    self.out_layer = nn.Linear(hunits, len(labels))\n",
        "  \n",
        "  def forward(self, x):\n",
        "    out, _ = self.rnn(x)\n",
        "    x = self.out_layer(out[:,-1,:])\n",
        "    return F.log_softmax(x, dim=1)\n",
        "\n",
        "\n",
        "model = MyLSTM()\n",
        "model.to(device)\n",
        "print(model)\n",
        "\n",
        "\n",
        "def count_parameters(model):\n",
        "    return sum(p.numel() for p in model.parameters() if p.requires_grad)\n",
        "\n",
        "\n",
        "n = count_parameters(model)\n",
        "print(\"Number of parameters: %s\" % n)"
      ],
      "execution_count": null,
      "outputs": [
        {
          "output_type": "stream",
          "text": [
            "MyLSTM(\n",
            "  (rnn): LSTM(12, 400, num_layers=3, batch_first=True)\n",
            "  (out_layer): Linear(in_features=400, out_features=35, bias=True)\n",
            ")\n",
            "Number of parameters: 3242835\n"
          ],
          "name": "stdout"
        }
      ]
    },
    {
      "cell_type": "markdown",
      "metadata": {
        "id": "DJ7PsFwp1Md_"
      },
      "source": [
        "We will use the same optimization technique used in the paper, an Adam\n",
        "optimizer with weight decay set to 0.0001. At first, we will train with\n",
        "a learning rate of 0.01, but we will use a ``scheduler`` to decrease it\n",
        "to 0.001 during training after 20 epochs.\n",
        "\n",
        "\n"
      ]
    },
    {
      "cell_type": "code",
      "metadata": {
        "id": "hAa5L2-R1MeA"
      },
      "source": [
        "optimizer = optim.Adam(model.parameters(), lr=0.01, weight_decay=0.0001)\n",
        "scheduler = optim.lr_scheduler.StepLR(optimizer, step_size=25, gamma=0.1)  # reduce the learning after 20 epochs by a factor of 10"
      ],
      "execution_count": null,
      "outputs": []
    },
    {
      "cell_type": "markdown",
      "metadata": {
        "id": "BN7zYu7p1MeA"
      },
      "source": [
        "Training and Testing the Network\n",
        "--------------------------------\n",
        "\n",
        "Now let’s define a training function that will feed our training data\n",
        "into the model and perform the backward pass and optimization steps. For\n",
        "training, the loss we will use is the negative log-likelihood. The\n",
        "network will then be tested after each epoch to see how the accuracy\n",
        "varies during the training.\n",
        "\n",
        "\n"
      ]
    },
    {
      "cell_type": "code",
      "metadata": {
        "id": "dv8-ZKZc1MeB"
      },
      "source": [
        "def train(model, epoch, log_interval):\n",
        "    model.train()\n",
        "    for batch_idx, (data, target) in enumerate(train_loader):\n",
        "\n",
        "        data = data.to(device)\n",
        "        target = target.to(device)\n",
        "\n",
        "        # apply transform and model on whole batch directly on device\n",
        "        data = mfcc_transform(data).squeeze(1).permute(0, 2, 1)\n",
        "        output = model(data)\n",
        "\n",
        "        # negative log-likelihood for a tensor of size (batch x 1 x n_output)\n",
        "        loss = F.nll_loss(output.squeeze(), target)\n",
        "\n",
        "        optimizer.zero_grad()\n",
        "        loss.backward()\n",
        "        optimizer.step()\n",
        "\n",
        "        # print training stats\n",
        "        if batch_idx % log_interval == 0:\n",
        "            print(f\"Train Epoch: {epoch} [{batch_idx * len(data)}/{len(train_loader.dataset)} ({100. * batch_idx / len(train_loader):.0f}%)]\\tLoss: {loss.item():.6f}\")\n",
        "\n",
        "        # update progress bar\n",
        "        pbar.update(pbar_update)\n",
        "        # record loss\n",
        "        losses.append(loss.item())"
      ],
      "execution_count": null,
      "outputs": []
    },
    {
      "cell_type": "markdown",
      "metadata": {
        "id": "iHFF8_HX1MeB"
      },
      "source": [
        "Now that we have a training function, we need to make one for testing\n",
        "the networks accuracy. We will set the model to ``eval()`` mode and then\n",
        "run inference on the test dataset. Calling ``eval()`` sets the training\n",
        "variable in all modules in the network to false. Certain layers like\n",
        "batch normalization and dropout layers behave differently during\n",
        "training so this step is crucial for getting correct results.\n",
        "\n",
        "\n"
      ]
    },
    {
      "cell_type": "code",
      "metadata": {
        "id": "2Z4FPJou1MeC"
      },
      "source": [
        "def number_of_correct(pred, target):\n",
        "    # count number of correct predictions\n",
        "    return pred.squeeze().eq(target).sum().item()\n",
        "\n",
        "\n",
        "def get_likely_index(tensor):\n",
        "    # find most likely label index for each element in the batch\n",
        "    return tensor.argmax(dim=-1)\n",
        "\n",
        "\n",
        "def test(model, epoch):\n",
        "    model.eval()\n",
        "    correct = 0\n",
        "    for data, target in test_loader:\n",
        "\n",
        "        data = data.to(device)\n",
        "        target = target.to(device)\n",
        "\n",
        "        # apply transform and model on whole batch directly on device\n",
        "        data = mfcc_transform(data).squeeze(1).permute(0, 2, 1)\n",
        "        output = model(data)\n",
        "\n",
        "        pred = get_likely_index(output)\n",
        "        correct += number_of_correct(pred, target)\n",
        "\n",
        "        # update progress bar\n",
        "        pbar.update(pbar_update)\n",
        "\n",
        "    print(f\"\\nTest Epoch: {epoch}\\tAccuracy: {correct}/{len(test_loader.dataset)} ({(100. * correct / len(test_loader.dataset)):.2f}%)\\n\")\n",
        "    return correct, len(test_loader.dataset)"
      ],
      "execution_count": null,
      "outputs": []
    },
    {
      "cell_type": "markdown",
      "metadata": {
        "id": "re58I8Ow1MeD"
      },
      "source": [
        "Finally, we can train and test the network. We will train the network\n",
        "for ten epochs then reduce the learn rate and train for ten more epochs.\n",
        "The network will be tested after each epoch to see how the accuracy\n",
        "varies during the training.\n",
        "\n",
        "\n"
      ]
    },
    {
      "cell_type": "code",
      "metadata": {
        "colab": {
          "base_uri": "https://localhost:8080/",
          "height": 1000,
          "referenced_widgets": [
            "85e0aa604d37463387338adb29d5487b",
            "0c49fed6b41044ed8c71e1f87c8ea3ed",
            "0ed4ced40da543f29c3c142477adfdd5",
            "fb0852b2a957435486c8af1197530468",
            "4de6d31f08e94e018a155659dc3b30b6",
            "6f693c5744f24fd490ab556cb4713f97",
            "7908038a15b24c479009a95e2ad06e7c",
            "e30de2be36c64e21b8cfd8d05b54677a"
          ]
        },
        "id": "QMAcoB7LzeBj",
        "outputId": "ab101f67-d1e5-40da-daf0-d2a12c7412f9"
      },
      "source": [
        "log_interval = 20\n",
        "#============ UPDATING number of epochs ====================\n",
        "n_epoch = 25\n",
        "\n",
        "pbar_update = 1 / (len(train_loader) + len(test_loader))\n",
        "losses = []\n",
        "\n",
        "# The transform needs to live on the same device as the model and the data.\n",
        "correct, total = None, None\n",
        "mfcc_transform = mfcc_transform.to(device)\n",
        "with tqdm(total=n_epoch) as pbar:\n",
        "    for epoch in range(1, n_epoch + 1):\n",
        "        train(model, epoch, log_interval)\n",
        "        correct, total = test(model, epoch)\n",
        "        scheduler.step()\n"
      ],
      "execution_count": null,
      "outputs": [
        {
          "output_type": "display_data",
          "data": {
            "application/vnd.jupyter.widget-view+json": {
              "model_id": "85e0aa604d37463387338adb29d5487b",
              "version_minor": 0,
              "version_major": 2
            },
            "text/plain": [
              "HBox(children=(FloatProgress(value=0.0, max=25.0), HTML(value='')))"
            ]
          },
          "metadata": {
            "tags": []
          }
        },
        {
          "output_type": "stream",
          "text": [
            "Train Epoch: 1 [0/12000 (0%)]\tLoss: 3.558752\n",
            "Train Epoch: 1 [5120/12000 (43%)]\tLoss: 3.433558\n",
            "Train Epoch: 1 [10240/12000 (85%)]\tLoss: 3.284962\n",
            "\n",
            "Test Epoch: 1\tAccuracy: 300/4000 (7.50%)\n",
            "\n",
            "Train Epoch: 2 [0/12000 (0%)]\tLoss: 3.173937\n",
            "Train Epoch: 2 [5120/12000 (43%)]\tLoss: 3.143561\n",
            "Train Epoch: 2 [10240/12000 (85%)]\tLoss: 3.142969\n",
            "\n",
            "Test Epoch: 2\tAccuracy: 547/4000 (13.68%)\n",
            "\n",
            "Train Epoch: 3 [0/12000 (0%)]\tLoss: 2.813009\n",
            "Train Epoch: 3 [5120/12000 (43%)]\tLoss: 2.987490\n",
            "Train Epoch: 3 [10240/12000 (85%)]\tLoss: 2.623812\n",
            "\n",
            "Test Epoch: 3\tAccuracy: 891/4000 (22.27%)\n",
            "\n",
            "Train Epoch: 4 [0/12000 (0%)]\tLoss: 2.693023\n",
            "Train Epoch: 4 [5120/12000 (43%)]\tLoss: 2.532324\n",
            "Train Epoch: 4 [10240/12000 (85%)]\tLoss: 2.546520\n",
            "\n",
            "Test Epoch: 4\tAccuracy: 1185/4000 (29.62%)\n",
            "\n",
            "Train Epoch: 5 [0/12000 (0%)]\tLoss: 2.335964\n",
            "Train Epoch: 5 [5120/12000 (43%)]\tLoss: 2.308553\n",
            "Train Epoch: 5 [10240/12000 (85%)]\tLoss: 1.952334\n",
            "\n",
            "Test Epoch: 5\tAccuracy: 1575/4000 (39.38%)\n",
            "\n",
            "Train Epoch: 6 [0/12000 (0%)]\tLoss: 2.070673\n",
            "Train Epoch: 6 [5120/12000 (43%)]\tLoss: 1.797675\n",
            "Train Epoch: 6 [10240/12000 (85%)]\tLoss: 1.610704\n",
            "\n",
            "Test Epoch: 6\tAccuracy: 2048/4000 (51.20%)\n",
            "\n",
            "Train Epoch: 7 [0/12000 (0%)]\tLoss: 1.554266\n",
            "Train Epoch: 7 [5120/12000 (43%)]\tLoss: 1.573921\n",
            "Train Epoch: 7 [10240/12000 (85%)]\tLoss: 1.330237\n",
            "\n",
            "Test Epoch: 7\tAccuracy: 2353/4000 (58.83%)\n",
            "\n",
            "Train Epoch: 8 [0/12000 (0%)]\tLoss: 1.357247\n",
            "Train Epoch: 8 [5120/12000 (43%)]\tLoss: 1.111845\n",
            "Train Epoch: 8 [10240/12000 (85%)]\tLoss: 1.220977\n",
            "\n",
            "Test Epoch: 8\tAccuracy: 2551/4000 (63.77%)\n",
            "\n",
            "Train Epoch: 9 [0/12000 (0%)]\tLoss: 0.996425\n",
            "Train Epoch: 9 [5120/12000 (43%)]\tLoss: 1.309891\n",
            "Train Epoch: 9 [10240/12000 (85%)]\tLoss: 0.928665\n",
            "\n",
            "Test Epoch: 9\tAccuracy: 2697/4000 (67.42%)\n",
            "\n",
            "Train Epoch: 10 [0/12000 (0%)]\tLoss: 1.028975\n",
            "Train Epoch: 10 [5120/12000 (43%)]\tLoss: 1.003939\n",
            "Train Epoch: 10 [10240/12000 (85%)]\tLoss: 0.897388\n",
            "\n",
            "Test Epoch: 10\tAccuracy: 2852/4000 (71.30%)\n",
            "\n",
            "Train Epoch: 11 [0/12000 (0%)]\tLoss: 0.822003\n",
            "Train Epoch: 11 [5120/12000 (43%)]\tLoss: 1.077482\n",
            "Train Epoch: 11 [10240/12000 (85%)]\tLoss: 0.905752\n",
            "\n",
            "Test Epoch: 11\tAccuracy: 2909/4000 (72.72%)\n",
            "\n",
            "Train Epoch: 12 [0/12000 (0%)]\tLoss: 0.704117\n",
            "Train Epoch: 12 [5120/12000 (43%)]\tLoss: 0.722060\n",
            "Train Epoch: 12 [10240/12000 (85%)]\tLoss: 0.814151\n",
            "\n",
            "Test Epoch: 12\tAccuracy: 2979/4000 (74.47%)\n",
            "\n",
            "Train Epoch: 13 [0/12000 (0%)]\tLoss: 0.581627\n",
            "Train Epoch: 13 [5120/12000 (43%)]\tLoss: 0.712741\n",
            "Train Epoch: 13 [10240/12000 (85%)]\tLoss: 0.700928\n",
            "\n",
            "Test Epoch: 13\tAccuracy: 2959/4000 (73.97%)\n",
            "\n",
            "Train Epoch: 14 [0/12000 (0%)]\tLoss: 0.905990\n",
            "Train Epoch: 14 [5120/12000 (43%)]\tLoss: 0.675121\n",
            "Train Epoch: 14 [10240/12000 (85%)]\tLoss: 0.642768\n",
            "\n",
            "Test Epoch: 14\tAccuracy: 3034/4000 (75.85%)\n",
            "\n",
            "Train Epoch: 15 [0/12000 (0%)]\tLoss: 0.619444\n",
            "Train Epoch: 15 [5120/12000 (43%)]\tLoss: 0.593251\n",
            "Train Epoch: 15 [10240/12000 (85%)]\tLoss: 0.702095\n",
            "\n",
            "Test Epoch: 15\tAccuracy: 3136/4000 (78.40%)\n",
            "\n",
            "Train Epoch: 16 [0/12000 (0%)]\tLoss: 0.632050\n",
            "Train Epoch: 16 [5120/12000 (43%)]\tLoss: 0.592552\n",
            "Train Epoch: 16 [10240/12000 (85%)]\tLoss: 0.572602\n",
            "\n",
            "Test Epoch: 16\tAccuracy: 3099/4000 (77.47%)\n",
            "\n",
            "Train Epoch: 17 [0/12000 (0%)]\tLoss: 0.523760\n",
            "Train Epoch: 17 [5120/12000 (43%)]\tLoss: 0.418569\n",
            "Train Epoch: 17 [10240/12000 (85%)]\tLoss: 0.661993\n",
            "\n",
            "Test Epoch: 17\tAccuracy: 3154/4000 (78.85%)\n",
            "\n",
            "Train Epoch: 18 [0/12000 (0%)]\tLoss: 0.415086\n",
            "Train Epoch: 18 [5120/12000 (43%)]\tLoss: 0.526384\n",
            "Train Epoch: 18 [10240/12000 (85%)]\tLoss: 0.542240\n",
            "\n",
            "Test Epoch: 18\tAccuracy: 3165/4000 (79.12%)\n",
            "\n",
            "Train Epoch: 19 [0/12000 (0%)]\tLoss: 0.434508\n",
            "Train Epoch: 19 [5120/12000 (43%)]\tLoss: 0.563970\n",
            "Train Epoch: 19 [10240/12000 (85%)]\tLoss: 0.511358\n",
            "\n",
            "Test Epoch: 19\tAccuracy: 3160/4000 (79.00%)\n",
            "\n",
            "Train Epoch: 20 [0/12000 (0%)]\tLoss: 0.472852\n",
            "Train Epoch: 20 [5120/12000 (43%)]\tLoss: 0.460498\n",
            "Train Epoch: 20 [10240/12000 (85%)]\tLoss: 0.439876\n",
            "\n",
            "Test Epoch: 20\tAccuracy: 3222/4000 (80.55%)\n",
            "\n",
            "Train Epoch: 21 [0/12000 (0%)]\tLoss: 0.286923\n",
            "Train Epoch: 21 [5120/12000 (43%)]\tLoss: 0.420797\n",
            "Train Epoch: 21 [10240/12000 (85%)]\tLoss: 0.359805\n",
            "\n",
            "Test Epoch: 21\tAccuracy: 3202/4000 (80.05%)\n",
            "\n",
            "Train Epoch: 22 [0/12000 (0%)]\tLoss: 0.430880\n",
            "Train Epoch: 22 [5120/12000 (43%)]\tLoss: 0.457929\n",
            "Train Epoch: 22 [10240/12000 (85%)]\tLoss: 0.423915\n",
            "\n",
            "Test Epoch: 22\tAccuracy: 3107/4000 (77.67%)\n",
            "\n",
            "Train Epoch: 23 [0/12000 (0%)]\tLoss: 0.459957\n",
            "Train Epoch: 23 [5120/12000 (43%)]\tLoss: 0.493881\n",
            "Train Epoch: 23 [10240/12000 (85%)]\tLoss: 0.444487\n",
            "\n",
            "Test Epoch: 23\tAccuracy: 3189/4000 (79.72%)\n",
            "\n",
            "Train Epoch: 24 [0/12000 (0%)]\tLoss: 0.277227\n",
            "Train Epoch: 24 [5120/12000 (43%)]\tLoss: 0.516726\n",
            "Train Epoch: 24 [10240/12000 (85%)]\tLoss: 0.612247\n",
            "\n",
            "Test Epoch: 24\tAccuracy: 3238/4000 (80.95%)\n",
            "\n",
            "Train Epoch: 25 [0/12000 (0%)]\tLoss: 0.445940\n",
            "Train Epoch: 25 [5120/12000 (43%)]\tLoss: 0.495110\n",
            "Train Epoch: 25 [10240/12000 (85%)]\tLoss: 0.463347\n",
            "\n",
            "Test Epoch: 25\tAccuracy: 3250/4000 (81.25%)\n",
            "\n",
            "\n"
          ],
          "name": "stdout"
        }
      ]
    },
    {
      "cell_type": "code",
      "metadata": {
        "colab": {
          "base_uri": "https://localhost:8080/"
        },
        "id": "xQS2OmDzCnT1",
        "outputId": "6cfdea1e-8804-4938-aafc-36ae3dfb1614"
      },
      "source": [
        "# PRINT FINAL TEST ACCURACY\n",
        "print(f\"{(100. * correct / total):.2f}\")"
      ],
      "execution_count": null,
      "outputs": [
        {
          "output_type": "stream",
          "text": [
            "81.25\n"
          ],
          "name": "stdout"
        }
      ]
    }
  ]
}